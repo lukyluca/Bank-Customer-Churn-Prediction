{
 "cells": [
  {
   "cell_type": "markdown",
   "metadata": {},
   "source": [
    "# Data cleaning Project1-Part1 Data Cleaning: Dati Luca and Miori Gloria"
   ]
  },
  {
   "cell_type": "markdown",
   "metadata": {},
   "source": [
    "## 1) Load packages and data"
   ]
  },
  {
   "cell_type": "code",
   "execution_count": 3510,
   "metadata": {},
   "outputs": [],
   "source": [
    "# Importing packages\n",
    "\n",
    "import pandas as pd\n",
    "import numpy as np\n",
    "from statistics import mode\n",
    "\n",
    "df = pd.read_csv('churn_data_before_processing.csv', index_col= 0)"
   ]
  },
  {
   "cell_type": "markdown",
   "metadata": {},
   "source": [
    "## 2) First look at the data\n",
    "\n",
    "In this part we look at the data as a whole to understand the nature of the data, find information about the type of data we are working with and what each field/feature in the data means.\n",
    "We look at the size of the dataset, if there are duplicated values and NaN values.\n"
   ]
  },
  {
   "cell_type": "markdown",
   "metadata": {},
   "source": [
    "The dataset has 10150 rows and 14 columns.<br>\n",
    "Not all columns will be significant for the analysis.<br>\n",
    "RowNumber and Surname are not of interest and can be eliminated.<br>\n",
    "Some insights on the non-trivial columns:<br>\n",
    "    $\\ CustomerId is a unique identifier and can be used to see if there are duplicated data in the dataset.<br>\n",
    "    - CreditScore is a number between 300–850 that depicts a consumer's creditworthiness.<br>\n",
    "    - Tenure means the length of time a customer has been with the bank. The unit is not specified, but seen the values, it should be in years<br>\n",
    "    - Balance is the amount of money held in a bank account at a given moment<br>\n",
    "    - Estimated salary is the estimated salary per year (probably in Euro based on the Geography column)<br>\n",
    "    - Exited says if the customer left the bank or not. This will probably be the outcome we will want from a model<br>"
   ]
  },
  {
   "cell_type": "code",
   "execution_count": 3511,
   "metadata": {},
   "outputs": [
    {
     "data": {
      "text/html": [
       "<div>\n",
       "<style scoped>\n",
       "    .dataframe tbody tr th:only-of-type {\n",
       "        vertical-align: middle;\n",
       "    }\n",
       "\n",
       "    .dataframe tbody tr th {\n",
       "        vertical-align: top;\n",
       "    }\n",
       "\n",
       "    .dataframe thead th {\n",
       "        text-align: right;\n",
       "    }\n",
       "</style>\n",
       "<table border=\"1\" class=\"dataframe\">\n",
       "  <thead>\n",
       "    <tr style=\"text-align: right;\">\n",
       "      <th></th>\n",
       "      <th>RowNumber</th>\n",
       "      <th>CustomerId</th>\n",
       "      <th>Surname</th>\n",
       "      <th>CreditScore</th>\n",
       "      <th>Geography</th>\n",
       "      <th>Gender</th>\n",
       "      <th>Age</th>\n",
       "      <th>Tenure</th>\n",
       "      <th>Balance</th>\n",
       "      <th>NumOfProducts</th>\n",
       "      <th>HasCrCard</th>\n",
       "      <th>IsActiveMember</th>\n",
       "      <th>EstimatedSalary</th>\n",
       "      <th>Exited</th>\n",
       "    </tr>\n",
       "  </thead>\n",
       "  <tbody>\n",
       "    <tr>\n",
       "      <th>0</th>\n",
       "      <td>1</td>\n",
       "      <td>15634602</td>\n",
       "      <td>Hargrave</td>\n",
       "      <td>619.0</td>\n",
       "      <td>France</td>\n",
       "      <td>Female</td>\n",
       "      <td>42.0</td>\n",
       "      <td>2.0</td>\n",
       "      <td>0.00</td>\n",
       "      <td>1.0</td>\n",
       "      <td>1.0</td>\n",
       "      <td>1.0</td>\n",
       "      <td>101348.88</td>\n",
       "      <td>1</td>\n",
       "    </tr>\n",
       "    <tr>\n",
       "      <th>1</th>\n",
       "      <td>2</td>\n",
       "      <td>15647311</td>\n",
       "      <td>Hill</td>\n",
       "      <td>608.0</td>\n",
       "      <td>Spain</td>\n",
       "      <td>Female</td>\n",
       "      <td>41.0</td>\n",
       "      <td>1.0</td>\n",
       "      <td>83807.86</td>\n",
       "      <td>1.0</td>\n",
       "      <td>0.0</td>\n",
       "      <td>1.0</td>\n",
       "      <td>112542.58</td>\n",
       "      <td>0</td>\n",
       "    </tr>\n",
       "    <tr>\n",
       "      <th>2</th>\n",
       "      <td>3</td>\n",
       "      <td>15619304</td>\n",
       "      <td>Onio</td>\n",
       "      <td>502.0</td>\n",
       "      <td>France</td>\n",
       "      <td>Female</td>\n",
       "      <td>42.0</td>\n",
       "      <td>8.0</td>\n",
       "      <td>159660.80</td>\n",
       "      <td>3.0</td>\n",
       "      <td>1.0</td>\n",
       "      <td>0.0</td>\n",
       "      <td>113931.57</td>\n",
       "      <td>1</td>\n",
       "    </tr>\n",
       "    <tr>\n",
       "      <th>3</th>\n",
       "      <td>4</td>\n",
       "      <td>15701354</td>\n",
       "      <td>Boni</td>\n",
       "      <td>699.0</td>\n",
       "      <td>France</td>\n",
       "      <td>Female</td>\n",
       "      <td>39.0</td>\n",
       "      <td>1.0</td>\n",
       "      <td>0.00</td>\n",
       "      <td>2.0</td>\n",
       "      <td>0.0</td>\n",
       "      <td>NaN</td>\n",
       "      <td>93826.63</td>\n",
       "      <td>0</td>\n",
       "    </tr>\n",
       "    <tr>\n",
       "      <th>4</th>\n",
       "      <td>5</td>\n",
       "      <td>15737888</td>\n",
       "      <td>Mitchell</td>\n",
       "      <td>850.0</td>\n",
       "      <td>Spain</td>\n",
       "      <td>Female</td>\n",
       "      <td>43.0</td>\n",
       "      <td>2.0</td>\n",
       "      <td>125510.82</td>\n",
       "      <td>1.0</td>\n",
       "      <td>1.0</td>\n",
       "      <td>1.0</td>\n",
       "      <td>79084.10</td>\n",
       "      <td>0</td>\n",
       "    </tr>\n",
       "    <tr>\n",
       "      <th>5</th>\n",
       "      <td>6</td>\n",
       "      <td>15574012</td>\n",
       "      <td>Chu</td>\n",
       "      <td>645.0</td>\n",
       "      <td>Spain</td>\n",
       "      <td>Male</td>\n",
       "      <td>44.0</td>\n",
       "      <td>8.0</td>\n",
       "      <td>113755.78</td>\n",
       "      <td>2.0</td>\n",
       "      <td>1.0</td>\n",
       "      <td>0.0</td>\n",
       "      <td>149756.71</td>\n",
       "      <td>1</td>\n",
       "    </tr>\n",
       "    <tr>\n",
       "      <th>6</th>\n",
       "      <td>7</td>\n",
       "      <td>15592531</td>\n",
       "      <td>Bartlett</td>\n",
       "      <td>822.0</td>\n",
       "      <td>France</td>\n",
       "      <td>Male</td>\n",
       "      <td>50.0</td>\n",
       "      <td>7.0</td>\n",
       "      <td>0.00</td>\n",
       "      <td>2.0</td>\n",
       "      <td>1.0</td>\n",
       "      <td>1.0</td>\n",
       "      <td>10062.80</td>\n",
       "      <td>0</td>\n",
       "    </tr>\n",
       "    <tr>\n",
       "      <th>7</th>\n",
       "      <td>8</td>\n",
       "      <td>15656148</td>\n",
       "      <td>Obinna</td>\n",
       "      <td>376.0</td>\n",
       "      <td>Germany</td>\n",
       "      <td>Female</td>\n",
       "      <td>29.0</td>\n",
       "      <td>4.0</td>\n",
       "      <td>115046.74</td>\n",
       "      <td>4.0</td>\n",
       "      <td>1.0</td>\n",
       "      <td>0.0</td>\n",
       "      <td>119346.88</td>\n",
       "      <td>1</td>\n",
       "    </tr>\n",
       "    <tr>\n",
       "      <th>8</th>\n",
       "      <td>9</td>\n",
       "      <td>15792365</td>\n",
       "      <td>He</td>\n",
       "      <td>501.0</td>\n",
       "      <td>France</td>\n",
       "      <td>Male</td>\n",
       "      <td>44.0</td>\n",
       "      <td>4.0</td>\n",
       "      <td>142051.07</td>\n",
       "      <td>2.0</td>\n",
       "      <td>0.0</td>\n",
       "      <td>1.0</td>\n",
       "      <td>74940.50</td>\n",
       "      <td>0</td>\n",
       "    </tr>\n",
       "    <tr>\n",
       "      <th>9</th>\n",
       "      <td>10</td>\n",
       "      <td>15592389</td>\n",
       "      <td>NaN</td>\n",
       "      <td>684.0</td>\n",
       "      <td>France</td>\n",
       "      <td>Male</td>\n",
       "      <td>27.0</td>\n",
       "      <td>2.0</td>\n",
       "      <td>134603.88</td>\n",
       "      <td>1.0</td>\n",
       "      <td>1.0</td>\n",
       "      <td>1.0</td>\n",
       "      <td>71725.73</td>\n",
       "      <td>0</td>\n",
       "    </tr>\n",
       "  </tbody>\n",
       "</table>\n",
       "</div>"
      ],
      "text/plain": [
       "   RowNumber  CustomerId   Surname  CreditScore Geography  Gender   Age  \\\n",
       "0          1    15634602  Hargrave        619.0    France  Female  42.0   \n",
       "1          2    15647311      Hill        608.0     Spain  Female  41.0   \n",
       "2          3    15619304      Onio        502.0    France  Female  42.0   \n",
       "3          4    15701354      Boni        699.0    France  Female  39.0   \n",
       "4          5    15737888  Mitchell        850.0     Spain  Female  43.0   \n",
       "5          6    15574012       Chu        645.0     Spain    Male  44.0   \n",
       "6          7    15592531  Bartlett        822.0    France    Male  50.0   \n",
       "7          8    15656148    Obinna        376.0   Germany  Female  29.0   \n",
       "8          9    15792365        He        501.0    France    Male  44.0   \n",
       "9         10    15592389       NaN        684.0    France    Male  27.0   \n",
       "\n",
       "   Tenure    Balance  NumOfProducts  HasCrCard  IsActiveMember  \\\n",
       "0     2.0       0.00            1.0        1.0             1.0   \n",
       "1     1.0   83807.86            1.0        0.0             1.0   \n",
       "2     8.0  159660.80            3.0        1.0             0.0   \n",
       "3     1.0       0.00            2.0        0.0             NaN   \n",
       "4     2.0  125510.82            1.0        1.0             1.0   \n",
       "5     8.0  113755.78            2.0        1.0             0.0   \n",
       "6     7.0       0.00            2.0        1.0             1.0   \n",
       "7     4.0  115046.74            4.0        1.0             0.0   \n",
       "8     4.0  142051.07            2.0        0.0             1.0   \n",
       "9     2.0  134603.88            1.0        1.0             1.0   \n",
       "\n",
       "   EstimatedSalary  Exited  \n",
       "0        101348.88       1  \n",
       "1        112542.58       0  \n",
       "2        113931.57       1  \n",
       "3         93826.63       0  \n",
       "4         79084.10       0  \n",
       "5        149756.71       1  \n",
       "6         10062.80       0  \n",
       "7        119346.88       1  \n",
       "8         74940.50       0  \n",
       "9         71725.73       0  "
      ]
     },
     "execution_count": 3511,
     "metadata": {},
     "output_type": "execute_result"
    }
   ],
   "source": [
    "# First look at the data\n",
    "\n",
    "df.head(10)"
   ]
  },
  {
   "cell_type": "code",
   "execution_count": 3512,
   "metadata": {},
   "outputs": [
    {
     "data": {
      "text/plain": [
       "((10150, 14),\n",
       " Index(['RowNumber', 'CustomerId', 'Surname', 'CreditScore', 'Geography',\n",
       "        'Gender', 'Age', 'Tenure', 'Balance', 'NumOfProducts', 'HasCrCard',\n",
       "        'IsActiveMember', 'EstimatedSalary', 'Exited'],\n",
       "       dtype='object'))"
      ]
     },
     "execution_count": 3512,
     "metadata": {},
     "output_type": "execute_result"
    }
   ],
   "source": [
    "df.shape, df.columns"
   ]
  },
  {
   "cell_type": "markdown",
   "metadata": {},
   "source": [
    "The dataset has 10150 rows and 14 columns.<br>\n",
    "    Not all columns will be significant for the analysis.<br>\n",
    "    RowNumber is not of interest and can be eliminated.<br>\n",
    "    Some insights on the non-trivial columns:<br>\n",
    "        - CustomerId is a unique identifier and can be used to see if there are duplicated data in the dataset. Can be removed after that<br>\n",
    "        - CreditScore is a number between 300–850 that depicts a consumer's creditworthiness.<br>\n",
    "        - Tenure means the length of time a customer has been with the bank<br>\n",
    "        - Balance is the amount of money held in a bank account at a given moment<br>\n",
    "        - Estimated salary is the estimated salary per year (probably in Euro based on the Geography column)<br>\n",
    "        - Exited says if the customer left the bank or not. This will probably be the outcome we will want from a model<br>"
   ]
  },
  {
   "cell_type": "code",
   "execution_count": 3513,
   "metadata": {},
   "outputs": [
    {
     "name": "stdout",
     "output_type": "stream",
     "text": [
      "<class 'pandas.core.frame.DataFrame'>\n",
      "Int64Index: 10150 entries, 0 to 8\n",
      "Data columns (total 14 columns):\n",
      " #   Column           Non-Null Count  Dtype  \n",
      "---  ------           --------------  -----  \n",
      " 0   RowNumber        10150 non-null  int64  \n",
      " 1   CustomerId       10150 non-null  int64  \n",
      " 2   Surname          10056 non-null  object \n",
      " 3   CreditScore      10132 non-null  float64\n",
      " 4   Geography        9954 non-null   object \n",
      " 5   Gender           9867 non-null   object \n",
      " 6   Age              9879 non-null   float64\n",
      " 7   Tenure           10070 non-null  float64\n",
      " 8   Balance          9994 non-null   float64\n",
      " 9   NumOfProducts    9862 non-null   float64\n",
      " 10  HasCrCard        10067 non-null  float64\n",
      " 11  IsActiveMember   10063 non-null  float64\n",
      " 12  EstimatedSalary  10106 non-null  float64\n",
      " 13  Exited           10150 non-null  int64  \n",
      "dtypes: float64(8), int64(3), object(3)\n",
      "memory usage: 1.2+ MB\n"
     ]
    }
   ],
   "source": [
    "df.info() # general overview of the data and type of variables"
   ]
  },
  {
   "cell_type": "code",
   "execution_count": 3514,
   "metadata": {},
   "outputs": [
    {
     "data": {
      "text/plain": [
       "Index(['rownumber', 'customerid', 'surname', 'creditscore', 'geography',\n",
       "       'gender', 'age', 'tenure', 'balance', 'numofproducts', 'hascrcard',\n",
       "       'isactivemember', 'estimatedsalary', 'exited'],\n",
       "      dtype='object')"
      ]
     },
     "execution_count": 3514,
     "metadata": {},
     "output_type": "execute_result"
    }
   ],
   "source": [
    "# Changing column names to work more easily\n",
    "\n",
    "df.columns = df.columns.str.lower()\n",
    "df.columns"
   ]
  },
  {
   "cell_type": "code",
   "execution_count": 3515,
   "metadata": {},
   "outputs": [],
   "source": [
    "# Dropping useless column rownumber\n",
    "\n",
    "df = df.drop('rownumber', axis = 1)"
   ]
  },
  {
   "cell_type": "markdown",
   "metadata": {},
   "source": [
    "##  a) Eliminating Duplicates"
   ]
  },
  {
   "cell_type": "code",
   "execution_count": 3516,
   "metadata": {},
   "outputs": [
    {
     "data": {
      "text/plain": [
       "104"
      ]
     },
     "execution_count": 3516,
     "metadata": {},
     "output_type": "execute_result"
    }
   ],
   "source": [
    "df.duplicated().sum()"
   ]
  },
  {
   "cell_type": "code",
   "execution_count": 3517,
   "metadata": {},
   "outputs": [
    {
     "data": {
      "text/html": [
       "<div>\n",
       "<style scoped>\n",
       "    .dataframe tbody tr th:only-of-type {\n",
       "        vertical-align: middle;\n",
       "    }\n",
       "\n",
       "    .dataframe tbody tr th {\n",
       "        vertical-align: top;\n",
       "    }\n",
       "\n",
       "    .dataframe thead th {\n",
       "        text-align: right;\n",
       "    }\n",
       "</style>\n",
       "<table border=\"1\" class=\"dataframe\">\n",
       "  <thead>\n",
       "    <tr style=\"text-align: right;\">\n",
       "      <th></th>\n",
       "      <th>customerid</th>\n",
       "      <th>surname</th>\n",
       "      <th>creditscore</th>\n",
       "      <th>geography</th>\n",
       "      <th>gender</th>\n",
       "      <th>age</th>\n",
       "      <th>tenure</th>\n",
       "      <th>balance</th>\n",
       "      <th>numofproducts</th>\n",
       "      <th>hascrcard</th>\n",
       "      <th>isactivemember</th>\n",
       "      <th>estimatedsalary</th>\n",
       "      <th>exited</th>\n",
       "    </tr>\n",
       "  </thead>\n",
       "  <tbody>\n",
       "    <tr>\n",
       "      <th>6481</th>\n",
       "      <td>15664752</td>\n",
       "      <td>Jack</td>\n",
       "      <td>606.0</td>\n",
       "      <td>Germany</td>\n",
       "      <td>Male</td>\n",
       "      <td>39.0</td>\n",
       "      <td>8.0</td>\n",
       "      <td>136000.45</td>\n",
       "      <td>2.0</td>\n",
       "      <td>1.0</td>\n",
       "      <td>0.0</td>\n",
       "      <td>31708.53</td>\n",
       "      <td>0</td>\n",
       "    </tr>\n",
       "    <tr>\n",
       "      <th>4317</th>\n",
       "      <td>15592194</td>\n",
       "      <td>Metcalf</td>\n",
       "      <td>492.0</td>\n",
       "      <td>France</td>\n",
       "      <td>Female</td>\n",
       "      <td>28.0</td>\n",
       "      <td>9.0</td>\n",
       "      <td>0.00</td>\n",
       "      <td>2.0</td>\n",
       "      <td>1.0</td>\n",
       "      <td>0.0</td>\n",
       "      <td>95957.09</td>\n",
       "      <td>0</td>\n",
       "    </tr>\n",
       "    <tr>\n",
       "      <th>6295</th>\n",
       "      <td>15621550</td>\n",
       "      <td>Hung</td>\n",
       "      <td>535.0</td>\n",
       "      <td>Spain</td>\n",
       "      <td>Female</td>\n",
       "      <td>50.0</td>\n",
       "      <td>1.0</td>\n",
       "      <td>140292.58</td>\n",
       "      <td>3.0</td>\n",
       "      <td>0.0</td>\n",
       "      <td>0.0</td>\n",
       "      <td>69531.22</td>\n",
       "      <td>1</td>\n",
       "    </tr>\n",
       "    <tr>\n",
       "      <th>9488</th>\n",
       "      <td>15659355</td>\n",
       "      <td>McKenzie</td>\n",
       "      <td>671.0</td>\n",
       "      <td>Spain</td>\n",
       "      <td>Male</td>\n",
       "      <td>32.0</td>\n",
       "      <td>6.0</td>\n",
       "      <td>123912.78</td>\n",
       "      <td>2.0</td>\n",
       "      <td>1.0</td>\n",
       "      <td>1.0</td>\n",
       "      <td>146636.44</td>\n",
       "      <td>0</td>\n",
       "    </tr>\n",
       "    <tr>\n",
       "      <th>6493</th>\n",
       "      <td>15723671</td>\n",
       "      <td>Lucciano</td>\n",
       "      <td>661.0</td>\n",
       "      <td>France</td>\n",
       "      <td>Male</td>\n",
       "      <td>35.0</td>\n",
       "      <td>9.0</td>\n",
       "      <td>100107.99</td>\n",
       "      <td>1.0</td>\n",
       "      <td>1.0</td>\n",
       "      <td>0.0</td>\n",
       "      <td>83949.68</td>\n",
       "      <td>0</td>\n",
       "    </tr>\n",
       "    <tr>\n",
       "      <th>...</th>\n",
       "      <td>...</td>\n",
       "      <td>...</td>\n",
       "      <td>...</td>\n",
       "      <td>...</td>\n",
       "      <td>...</td>\n",
       "      <td>...</td>\n",
       "      <td>...</td>\n",
       "      <td>...</td>\n",
       "      <td>...</td>\n",
       "      <td>...</td>\n",
       "      <td>...</td>\n",
       "      <td>...</td>\n",
       "      <td>...</td>\n",
       "    </tr>\n",
       "    <tr>\n",
       "      <th>6523</th>\n",
       "      <td>15806249</td>\n",
       "      <td>Kerr</td>\n",
       "      <td>671.0</td>\n",
       "      <td>Spain</td>\n",
       "      <td>Female</td>\n",
       "      <td>31.0</td>\n",
       "      <td>4.0</td>\n",
       "      <td>0.00</td>\n",
       "      <td>2.0</td>\n",
       "      <td>0.0</td>\n",
       "      <td>1.0</td>\n",
       "      <td>79270.02</td>\n",
       "      <td>0</td>\n",
       "    </tr>\n",
       "    <tr>\n",
       "      <th>3612</th>\n",
       "      <td>15792151</td>\n",
       "      <td>Hamilton</td>\n",
       "      <td>635.0</td>\n",
       "      <td>Spain</td>\n",
       "      <td>Female</td>\n",
       "      <td>37.0</td>\n",
       "      <td>3.0</td>\n",
       "      <td>0.00</td>\n",
       "      <td>2.0</td>\n",
       "      <td>1.0</td>\n",
       "      <td>0.0</td>\n",
       "      <td>91086.73</td>\n",
       "      <td>0</td>\n",
       "    </tr>\n",
       "    <tr>\n",
       "      <th>4437</th>\n",
       "      <td>15779522</td>\n",
       "      <td>Efimov</td>\n",
       "      <td>736.0</td>\n",
       "      <td>France</td>\n",
       "      <td>Female</td>\n",
       "      <td>24.0</td>\n",
       "      <td>0.0</td>\n",
       "      <td>0.00</td>\n",
       "      <td>2.0</td>\n",
       "      <td>1.0</td>\n",
       "      <td>0.0</td>\n",
       "      <td>109355.73</td>\n",
       "      <td>1</td>\n",
       "    </tr>\n",
       "    <tr>\n",
       "      <th>6549</th>\n",
       "      <td>15792029</td>\n",
       "      <td>Lee</td>\n",
       "      <td>620.0</td>\n",
       "      <td>France</td>\n",
       "      <td>Male</td>\n",
       "      <td>32.0</td>\n",
       "      <td>6.0</td>\n",
       "      <td>0.00</td>\n",
       "      <td>2.0</td>\n",
       "      <td>1.0</td>\n",
       "      <td>0.0</td>\n",
       "      <td>56139.09</td>\n",
       "      <td>0</td>\n",
       "    </tr>\n",
       "    <tr>\n",
       "      <th>8</th>\n",
       "      <td>15792365</td>\n",
       "      <td>He</td>\n",
       "      <td>501.0</td>\n",
       "      <td>France</td>\n",
       "      <td>Male</td>\n",
       "      <td>44.0</td>\n",
       "      <td>4.0</td>\n",
       "      <td>142051.07</td>\n",
       "      <td>2.0</td>\n",
       "      <td>0.0</td>\n",
       "      <td>1.0</td>\n",
       "      <td>74940.50</td>\n",
       "      <td>0</td>\n",
       "    </tr>\n",
       "  </tbody>\n",
       "</table>\n",
       "<p>104 rows × 13 columns</p>\n",
       "</div>"
      ],
      "text/plain": [
       "      customerid   surname  creditscore geography  gender   age  tenure  \\\n",
       "6481    15664752      Jack        606.0   Germany    Male  39.0     8.0   \n",
       "4317    15592194   Metcalf        492.0    France  Female  28.0     9.0   \n",
       "6295    15621550      Hung        535.0     Spain  Female  50.0     1.0   \n",
       "9488    15659355  McKenzie        671.0     Spain    Male  32.0     6.0   \n",
       "6493    15723671  Lucciano        661.0    France    Male  35.0     9.0   \n",
       "...          ...       ...          ...       ...     ...   ...     ...   \n",
       "6523    15806249      Kerr        671.0     Spain  Female  31.0     4.0   \n",
       "3612    15792151  Hamilton        635.0     Spain  Female  37.0     3.0   \n",
       "4437    15779522    Efimov        736.0    France  Female  24.0     0.0   \n",
       "6549    15792029       Lee        620.0    France    Male  32.0     6.0   \n",
       "8       15792365        He        501.0    France    Male  44.0     4.0   \n",
       "\n",
       "        balance  numofproducts  hascrcard  isactivemember  estimatedsalary  \\\n",
       "6481  136000.45            2.0        1.0             0.0         31708.53   \n",
       "4317       0.00            2.0        1.0             0.0         95957.09   \n",
       "6295  140292.58            3.0        0.0             0.0         69531.22   \n",
       "9488  123912.78            2.0        1.0             1.0        146636.44   \n",
       "6493  100107.99            1.0        1.0             0.0         83949.68   \n",
       "...         ...            ...        ...             ...              ...   \n",
       "6523       0.00            2.0        0.0             1.0         79270.02   \n",
       "3612       0.00            2.0        1.0             0.0         91086.73   \n",
       "4437       0.00            2.0        1.0             0.0        109355.73   \n",
       "6549       0.00            2.0        1.0             0.0         56139.09   \n",
       "8     142051.07            2.0        0.0             1.0         74940.50   \n",
       "\n",
       "      exited  \n",
       "6481       0  \n",
       "4317       0  \n",
       "6295       1  \n",
       "9488       0  \n",
       "6493       0  \n",
       "...      ...  \n",
       "6523       0  \n",
       "3612       0  \n",
       "4437       1  \n",
       "6549       0  \n",
       "8          0  \n",
       "\n",
       "[104 rows x 13 columns]"
      ]
     },
     "execution_count": 3517,
     "metadata": {},
     "output_type": "execute_result"
    }
   ],
   "source": [
    "df[df.duplicated(keep='first')]"
   ]
  },
  {
   "cell_type": "code",
   "execution_count": 3518,
   "metadata": {},
   "outputs": [],
   "source": [
    "df.drop_duplicates(subset= [\"customerid\"], inplace=True)"
   ]
  },
  {
   "cell_type": "code",
   "execution_count": 3519,
   "metadata": {},
   "outputs": [
    {
     "name": "stdout",
     "output_type": "stream",
     "text": [
      "False\n",
      "(10000, 13)\n"
     ]
    }
   ],
   "source": [
    "print(df.duplicated().any())\n",
    "print(df.shape)"
   ]
  },
  {
   "cell_type": "markdown",
   "metadata": {},
   "source": [
    "We can now remove the customerid column"
   ]
  },
  {
   "cell_type": "code",
   "execution_count": 3520,
   "metadata": {},
   "outputs": [],
   "source": [
    "df = df.drop('customerid', axis = 1)"
   ]
  },
  {
   "cell_type": "markdown",
   "metadata": {},
   "source": [
    "## b) Checking for NaN values"
   ]
  },
  {
   "cell_type": "code",
   "execution_count": 3521,
   "metadata": {},
   "outputs": [
    {
     "data": {
      "text/plain": [
       "surname             True\n",
       "creditscore         True\n",
       "geography           True\n",
       "gender              True\n",
       "age                 True\n",
       "tenure              True\n",
       "balance             True\n",
       "numofproducts       True\n",
       "hascrcard           True\n",
       "isactivemember      True\n",
       "estimatedsalary     True\n",
       "exited             False\n",
       "dtype: bool"
      ]
     },
     "execution_count": 3521,
     "metadata": {},
     "output_type": "execute_result"
    }
   ],
   "source": [
    "df.isnull().any()"
   ]
  },
  {
   "cell_type": "markdown",
   "metadata": {},
   "source": [
    "There are missing values in every columns except Exited and we will analyse all of them separately"
   ]
  },
  {
   "cell_type": "code",
   "execution_count": 3522,
   "metadata": {},
   "outputs": [
    {
     "data": {
      "text/plain": [
       "surname             92\n",
       "creditscore         18\n",
       "geography          195\n",
       "gender             278\n",
       "age                261\n",
       "tenure              78\n",
       "balance            150\n",
       "numofproducts      286\n",
       "hascrcard           80\n",
       "isactivemember      87\n",
       "estimatedsalary     43\n",
       "exited               0\n",
       "dtype: int64"
      ]
     },
     "execution_count": 3522,
     "metadata": {},
     "output_type": "execute_result"
    }
   ],
   "source": [
    "df.isna().sum() # counting NaN for each column"
   ]
  },
  {
   "cell_type": "code",
   "execution_count": 3523,
   "metadata": {},
   "outputs": [
    {
     "name": "stdout",
     "output_type": "stream",
     "text": [
      "Percentage of Nan for each column\n",
      " surname            0.92\n",
      "creditscore        0.18\n",
      "geography          1.95\n",
      "gender             2.78\n",
      "age                2.61\n",
      "tenure             0.78\n",
      "balance            1.50\n",
      "numofproducts      2.86\n",
      "hascrcard          0.80\n",
      "isactivemember     0.87\n",
      "estimatedsalary    0.43\n",
      "exited             0.00\n",
      "dtype: float64\n"
     ]
    }
   ],
   "source": [
    "# evaluating the % of NaN for each column\n",
    "print('Percentage of Nan for each column'\"\\n\",df.isna().mean()*100)"
   ]
  },
  {
   "cell_type": "markdown",
   "metadata": {},
   "source": [
    "All features have a small % of NaN"
   ]
  },
  {
   "cell_type": "code",
   "execution_count": 3524,
   "metadata": {},
   "outputs": [
    {
     "data": {
      "text/html": [
       "<div>\n",
       "<style scoped>\n",
       "    .dataframe tbody tr th:only-of-type {\n",
       "        vertical-align: middle;\n",
       "    }\n",
       "\n",
       "    .dataframe tbody tr th {\n",
       "        vertical-align: top;\n",
       "    }\n",
       "\n",
       "    .dataframe thead th {\n",
       "        text-align: right;\n",
       "    }\n",
       "</style>\n",
       "<table border=\"1\" class=\"dataframe\">\n",
       "  <thead>\n",
       "    <tr style=\"text-align: right;\">\n",
       "      <th></th>\n",
       "      <th>creditscore</th>\n",
       "      <th>age</th>\n",
       "      <th>tenure</th>\n",
       "      <th>balance</th>\n",
       "      <th>numofproducts</th>\n",
       "      <th>hascrcard</th>\n",
       "      <th>isactivemember</th>\n",
       "      <th>estimatedsalary</th>\n",
       "      <th>exited</th>\n",
       "    </tr>\n",
       "  </thead>\n",
       "  <tbody>\n",
       "    <tr>\n",
       "      <th>count</th>\n",
       "      <td>9982.0</td>\n",
       "      <td>9739.0</td>\n",
       "      <td>9922.0</td>\n",
       "      <td>9850.0</td>\n",
       "      <td>9714.0</td>\n",
       "      <td>9920.0</td>\n",
       "      <td>9913.0</td>\n",
       "      <td>9957.0</td>\n",
       "      <td>10000.0</td>\n",
       "    </tr>\n",
       "    <tr>\n",
       "      <th>mean</th>\n",
       "      <td>651.0</td>\n",
       "      <td>39.0</td>\n",
       "      <td>5.0</td>\n",
       "      <td>76723.0</td>\n",
       "      <td>2.0</td>\n",
       "      <td>1.0</td>\n",
       "      <td>1.0</td>\n",
       "      <td>100117.0</td>\n",
       "      <td>0.0</td>\n",
       "    </tr>\n",
       "    <tr>\n",
       "      <th>std</th>\n",
       "      <td>100.0</td>\n",
       "      <td>11.0</td>\n",
       "      <td>3.0</td>\n",
       "      <td>63728.0</td>\n",
       "      <td>1.0</td>\n",
       "      <td>0.0</td>\n",
       "      <td>0.0</td>\n",
       "      <td>57497.0</td>\n",
       "      <td>0.0</td>\n",
       "    </tr>\n",
       "    <tr>\n",
       "      <th>min</th>\n",
       "      <td>350.0</td>\n",
       "      <td>-49.0</td>\n",
       "      <td>-5.0</td>\n",
       "      <td>0.0</td>\n",
       "      <td>-2.0</td>\n",
       "      <td>0.0</td>\n",
       "      <td>0.0</td>\n",
       "      <td>12.0</td>\n",
       "      <td>0.0</td>\n",
       "    </tr>\n",
       "    <tr>\n",
       "      <th>25%</th>\n",
       "      <td>584.0</td>\n",
       "      <td>32.0</td>\n",
       "      <td>3.0</td>\n",
       "      <td>0.0</td>\n",
       "      <td>1.0</td>\n",
       "      <td>0.0</td>\n",
       "      <td>0.0</td>\n",
       "      <td>51100.0</td>\n",
       "      <td>0.0</td>\n",
       "    </tr>\n",
       "    <tr>\n",
       "      <th>50%</th>\n",
       "      <td>652.0</td>\n",
       "      <td>37.0</td>\n",
       "      <td>5.0</td>\n",
       "      <td>97246.0</td>\n",
       "      <td>1.0</td>\n",
       "      <td>1.0</td>\n",
       "      <td>1.0</td>\n",
       "      <td>100240.0</td>\n",
       "      <td>0.0</td>\n",
       "    </tr>\n",
       "    <tr>\n",
       "      <th>75%</th>\n",
       "      <td>718.0</td>\n",
       "      <td>44.0</td>\n",
       "      <td>7.0</td>\n",
       "      <td>127641.0</td>\n",
       "      <td>2.0</td>\n",
       "      <td>1.0</td>\n",
       "      <td>1.0</td>\n",
       "      <td>149400.0</td>\n",
       "      <td>0.0</td>\n",
       "    </tr>\n",
       "    <tr>\n",
       "      <th>max</th>\n",
       "      <td>2924.0</td>\n",
       "      <td>92.0</td>\n",
       "      <td>32.0</td>\n",
       "      <td>1036826.0</td>\n",
       "      <td>11.0</td>\n",
       "      <td>1.0</td>\n",
       "      <td>1.0</td>\n",
       "      <td>199992.0</td>\n",
       "      <td>1.0</td>\n",
       "    </tr>\n",
       "  </tbody>\n",
       "</table>\n",
       "</div>"
      ],
      "text/plain": [
       "       creditscore     age  tenure    balance  numofproducts  hascrcard  \\\n",
       "count       9982.0  9739.0  9922.0     9850.0         9714.0     9920.0   \n",
       "mean         651.0    39.0     5.0    76723.0            2.0        1.0   \n",
       "std          100.0    11.0     3.0    63728.0            1.0        0.0   \n",
       "min          350.0   -49.0    -5.0        0.0           -2.0        0.0   \n",
       "25%          584.0    32.0     3.0        0.0            1.0        0.0   \n",
       "50%          652.0    37.0     5.0    97246.0            1.0        1.0   \n",
       "75%          718.0    44.0     7.0   127641.0            2.0        1.0   \n",
       "max         2924.0    92.0    32.0  1036826.0           11.0        1.0   \n",
       "\n",
       "       isactivemember  estimatedsalary   exited  \n",
       "count          9913.0           9957.0  10000.0  \n",
       "mean              1.0         100117.0      0.0  \n",
       "std               0.0          57497.0      0.0  \n",
       "min               0.0             12.0      0.0  \n",
       "25%               0.0          51100.0      0.0  \n",
       "50%               1.0         100240.0      0.0  \n",
       "75%               1.0         149400.0      0.0  \n",
       "max               1.0         199992.0      1.0  "
      ]
     },
     "execution_count": 3524,
     "metadata": {},
     "output_type": "execute_result"
    }
   ],
   "source": [
    "# general view of the variables statistical information\n",
    "\n",
    "df.describe().round()"
   ]
  },
  {
   "cell_type": "markdown",
   "metadata": {},
   "source": [
    "There are some values in some columns that makes no sense (i.e. Negative age, tenure,...) but we will analyse each feature separately afterwards in the Uni-variate Analysis"
   ]
  },
  {
   "cell_type": "markdown",
   "metadata": {},
   "source": [
    "## 3) Uni-variate analysis"
   ]
  },
  {
   "cell_type": "markdown",
   "metadata": {},
   "source": [
    "## Missing Values and Outliers Exploration by column\n",
    "\n",
    "- `surname`\n",
    "- `creditscore`\n",
    "- `geography`\n",
    "- `gender`\n",
    "- `age`\n",
    "- `tenure`\n",
    "- `balance`\n",
    "- `numofproducts`\n",
    "- `hascrcard`\n",
    "- `isactivemember`\n",
    "- `estimatedsalary`\n",
    "- `exited`"
   ]
  },
  {
   "cell_type": "markdown",
   "metadata": {},
   "source": [
    "## Surname Column"
   ]
  },
  {
   "cell_type": "code",
   "execution_count": 3525,
   "metadata": {},
   "outputs": [],
   "source": [
    "# The surname column is not of interest for a model, so we decided to drop the column.\n",
    "\n",
    "df = df.drop('surname', axis = 1)"
   ]
  },
  {
   "cell_type": "markdown",
   "metadata": {},
   "source": [
    "## Credit Score Column"
   ]
  },
  {
   "cell_type": "code",
   "execution_count": 3526,
   "metadata": {},
   "outputs": [
    {
     "name": "stdout",
     "output_type": "stream",
     "text": [
      "<class 'numpy.float64'>\n"
     ]
    },
    {
     "data": {
      "text/plain": [
       "(None, 18, 0.18)"
      ]
     },
     "execution_count": 3526,
     "metadata": {},
     "output_type": "execute_result"
    }
   ],
   "source": [
    "# Checking for Type of the variable, Missing values and % of missing values\n",
    "\n",
    "print(type(df.creditscore[0])), df.creditscore.isna().sum(), round(df.creditscore.isna().mean()*100,2)"
   ]
  },
  {
   "cell_type": "code",
   "execution_count": 3527,
   "metadata": {},
   "outputs": [
    {
     "name": "stdout",
     "output_type": "stream",
     "text": [
      "count    9982.000000\n",
      "mean      650.902076\n",
      "std       100.409554\n",
      "min       350.000000\n",
      "25%       584.000000\n",
      "50%       652.000000\n",
      "75%       718.000000\n",
      "max      2924.008649\n",
      "Name: creditscore, dtype: float64\n"
     ]
    }
   ],
   "source": [
    "# Column description\n",
    "\n",
    "print(df.creditscore.describe())\n"
   ]
  },
  {
   "cell_type": "code",
   "execution_count": 3528,
   "metadata": {},
   "outputs": [
    {
     "data": {
      "text/plain": [
       "<AxesSubplot:ylabel='Frequency'>"
      ]
     },
     "execution_count": 3528,
     "metadata": {},
     "output_type": "execute_result"
    },
    {
     "data": {
      "image/png": "[encoded data removed]",
      "text/plain": [
       "<Figure size 432x288 with 1 Axes>"
      ]
     },
     "metadata": {
      "needs_background": "light"
     },
     "output_type": "display_data"
    }
   ],
   "source": [
    "df.creditscore.plot(kind = 'hist', bins = 20)"
   ]
  },
  {
   "cell_type": "code",
   "execution_count": 3529,
   "metadata": {},
   "outputs": [
    {
     "data": {
      "text/plain": [
       "<AxesSubplot:>"
      ]
     },
     "execution_count": 3529,
     "metadata": {},
     "output_type": "execute_result"
    },
    {
     "data": {
      "image/png": "[encoded data removed]",
      "text/plain": [
       "<Figure size 432x288 with 1 Axes>"
      ]
     },
     "metadata": {
      "needs_background": "light"
     },
     "output_type": "display_data"
    }
   ],
   "source": [
    "#identifiying the outliers\n",
    "\n",
    "df.creditscore.plot( kind = 'box')"
   ]
  },
  {
   "cell_type": "markdown",
   "metadata": {},
   "source": [
    "CreditScore is a number between 300–850:<br>\n",
    "Values bigger than 850 are outliers to be replaced<br>"
   ]
  },
  {
   "cell_type": "code",
   "execution_count": 3530,
   "metadata": {},
   "outputs": [
    {
     "data": {
      "text/plain": [
       "count    9749.000000\n",
       "mean      645.796697\n",
       "std        92.706084\n",
       "min       350.000000\n",
       "25%       582.000000\n",
       "50%       649.000000\n",
       "75%       712.000000\n",
       "max       849.000000\n",
       "Name: creditscore, dtype: float64"
      ]
     },
     "execution_count": 3530,
     "metadata": {},
     "output_type": "execute_result"
    }
   ],
   "source": [
    "# saving a version of the Column without the outliers\n",
    "\n",
    "CS_cleaned = df[df.creditscore < 850][\"creditscore\"].copy()\n",
    "CS_cleaned.describe()"
   ]
  },
  {
   "cell_type": "code",
   "execution_count": 3531,
   "metadata": {},
   "outputs": [
    {
     "data": {
      "text/plain": [
       "<AxesSubplot:>"
      ]
     },
     "execution_count": 3531,
     "metadata": {},
     "output_type": "execute_result"
    },
    {
     "data": {
      "image/png": "[encoded data removed]",
      "text/plain": [
       "<Figure size 432x288 with 1 Axes>"
      ]
     },
     "metadata": {
      "needs_background": "light"
     },
     "output_type": "display_data"
    }
   ],
   "source": [
    "# Box plot without the outliers\n",
    "\n",
    "CS_cleaned.plot(kind = 'box')"
   ]
  },
  {
   "cell_type": "code",
   "execution_count": 3532,
   "metadata": {},
   "outputs": [
    {
     "data": {
      "text/plain": [
       "649.0"
      ]
     },
     "execution_count": 3532,
     "metadata": {},
     "output_type": "execute_result"
    }
   ],
   "source": [
    "# Replacing missing values and outliers with Median\n",
    "# calculating median without the outliers that will be replaced\n",
    "\n",
    "CS_median = CS_cleaned.median()\n",
    "CS_median"
   ]
  },
  {
   "cell_type": "code",
   "execution_count": 3533,
   "metadata": {},
   "outputs": [],
   "source": [
    "df.creditscore.fillna(CS_median, inplace= True)\n",
    "df.loc[df.creditscore > 850, \"creditscore\"] = CS_median"
   ]
  },
  {
   "cell_type": "code",
   "execution_count": 3534,
   "metadata": {},
   "outputs": [
    {
     "data": {
      "text/plain": [
       "False"
      ]
     },
     "execution_count": 3534,
     "metadata": {},
     "output_type": "execute_result"
    }
   ],
   "source": [
    "df.creditscore.isna().any()"
   ]
  },
  {
   "cell_type": "code",
   "execution_count": 3535,
   "metadata": {},
   "outputs": [
    {
     "data": {
      "text/plain": [
       "numpy.int32"
      ]
     },
     "execution_count": 3535,
     "metadata": {},
     "output_type": "execute_result"
    }
   ],
   "source": [
    "# Changing the type from float to integer\n",
    "\n",
    "df['creditscore']  = df.creditscore.astype('int')\n",
    "type(df.creditscore[0])"
   ]
  },
  {
   "cell_type": "code",
   "execution_count": 3536,
   "metadata": {},
   "outputs": [
    {
     "data": {
      "text/plain": [
       "<AxesSubplot:ylabel='Frequency'>"
      ]
     },
     "execution_count": 3536,
     "metadata": {},
     "output_type": "execute_result"
    },
    {
     "data": {
      "image/png": "[encoded data removed]",
      "text/plain": [
       "<Figure size 432x288 with 1 Axes>"
      ]
     },
     "metadata": {
      "needs_background": "light"
     },
     "output_type": "display_data"
    }
   ],
   "source": [
    "# distribution after fixing the values\n",
    "df.creditscore.plot(kind = 'hist', bins = 20)"
   ]
  },
  {
   "cell_type": "code",
   "execution_count": 3537,
   "metadata": {},
   "outputs": [],
   "source": [
    "assert df.creditscore.count() == len(df) # assert we fixed all NaN rows\n",
    "assert max(df.creditscore) == 850"
   ]
  },
  {
   "cell_type": "markdown",
   "metadata": {},
   "source": [
    "## Geography Column"
   ]
  },
  {
   "cell_type": "code",
   "execution_count": 3538,
   "metadata": {},
   "outputs": [
    {
     "data": {
      "text/plain": [
       "(str, 195, 1.95)"
      ]
     },
     "execution_count": 3538,
     "metadata": {},
     "output_type": "execute_result"
    }
   ],
   "source": [
    "# Checking for Type of the variable, Missing values and % of missing values\n",
    "type(df.geography[0]), df.geography.isna().sum(), df.geography.isna().mean()*100"
   ]
  },
  {
   "cell_type": "code",
   "execution_count": 3539,
   "metadata": {},
   "outputs": [
    {
     "name": "stdout",
     "output_type": "stream",
     "text": [
      "France     4923\n",
      "Germany    2451\n",
      "Spain      2431\n",
      "NaN         195\n",
      "Name: geography, dtype: int64\n",
      "France     49.23\n",
      "Germany    24.51\n",
      "Spain      24.31\n",
      "NaN         1.95\n",
      "Name: geography, dtype: float64\n"
     ]
    }
   ],
   "source": [
    "# Frequency Table, absolute values and %\n",
    "\n",
    "print(df.geography.value_counts(dropna =False))\n",
    "print(df.geography.value_counts(normalize = True, dropna = False)*100)"
   ]
  },
  {
   "cell_type": "markdown",
   "metadata": {},
   "source": [
    "Around 2% of Geography column is NaN.\n",
    "Since it is a categorical variable we decided to fill the missing value with the Mode"
   ]
  },
  {
   "cell_type": "code",
   "execution_count": 3540,
   "metadata": {},
   "outputs": [],
   "source": [
    "# Using the mode to fill NaN\n",
    "\n",
    "df.geography.fillna(mode(df.geography), inplace= True)"
   ]
  },
  {
   "cell_type": "code",
   "execution_count": 3541,
   "metadata": {},
   "outputs": [
    {
     "data": {
      "text/plain": [
       "France     5118\n",
       "Germany    2451\n",
       "Spain      2431\n",
       "Name: geography, dtype: int64"
      ]
     },
     "execution_count": 3541,
     "metadata": {},
     "output_type": "execute_result"
    }
   ],
   "source": [
    "df.geography.value_counts(dropna =False)"
   ]
  },
  {
   "cell_type": "code",
   "execution_count": 3542,
   "metadata": {},
   "outputs": [
    {
     "data": {
      "text/plain": [
       "<AxesSubplot:>"
      ]
     },
     "execution_count": 3542,
     "metadata": {},
     "output_type": "execute_result"
    },
    {
     "data": {
      "image/png": "[encoded data removed]",
      "text/plain": [
       "<Figure size 432x288 with 1 Axes>"
      ]
     },
     "metadata": {
      "needs_background": "light"
     },
     "output_type": "display_data"
    }
   ],
   "source": [
    "df.geography.value_counts().plot(kind= 'bar')"
   ]
  },
  {
   "cell_type": "code",
   "execution_count": 3543,
   "metadata": {},
   "outputs": [],
   "source": [
    "assert df.geography.count() == len(df) #assert we fixed all NaN rows"
   ]
  },
  {
   "cell_type": "markdown",
   "metadata": {},
   "source": [
    "## Gender Column"
   ]
  },
  {
   "cell_type": "code",
   "execution_count": 3544,
   "metadata": {},
   "outputs": [
    {
     "name": "stdout",
     "output_type": "stream",
     "text": [
      "<class 'str'>\n"
     ]
    },
    {
     "data": {
      "text/plain": [
       "(None, 278, 2.78)"
      ]
     },
     "execution_count": 3544,
     "metadata": {},
     "output_type": "execute_result"
    }
   ],
   "source": [
    "# Checking for Type of the variable, Missing values and % of missing values\n",
    "\n",
    "print(type(df.gender[0])), df.gender.isna().sum(), df.gender.isna().mean()*100"
   ]
  },
  {
   "cell_type": "code",
   "execution_count": 3545,
   "metadata": {},
   "outputs": [
    {
     "name": "stdout",
     "output_type": "stream",
     "text": [
      "Male      5304\n",
      "Female    4418\n",
      "NaN        278\n",
      "Name: gender, dtype: int64\n",
      "Male      54.556676\n",
      "Female    45.443324\n",
      "NaN        2.859494\n",
      "Name: gender, dtype: float64\n"
     ]
    }
   ],
   "source": [
    "# Frequency Table absolute and %\n",
    "\n",
    "print(df.gender.value_counts(dropna = False))\n",
    "print(df.gender.value_counts(dropna = False)/df.gender.count()*100)\n"
   ]
  },
  {
   "cell_type": "code",
   "execution_count": 3546,
   "metadata": {},
   "outputs": [
    {
     "data": {
      "text/plain": [
       "Male         5304\n",
       "Female       4418\n",
       "No gender     278\n",
       "Name: gender, dtype: int64"
      ]
     },
     "execution_count": 3546,
     "metadata": {},
     "output_type": "execute_result"
    }
   ],
   "source": [
    "df.gender.fillna('No gender', inplace= True) # replace NaN values with 'No gender': easier to replace afterwards\n",
    "df.gender.value_counts(dropna = False)"
   ]
  },
  {
   "cell_type": "markdown",
   "metadata": {},
   "source": [
    "For gender we will assign NaN to Male or Female randomly with a uniform discribution since in a normal population male and female should be around 50%-50%"
   ]
  },
  {
   "cell_type": "code",
   "execution_count": 3547,
   "metadata": {},
   "outputs": [],
   "source": [
    "np.random.seed(1)\n",
    "rand_n = np.random.randint(0,2,len(df[df.gender == 'No gender']))\n",
    "gen_val = list()\n",
    "\n",
    "# creating a list of Male and Female based on random numbers to replace NaN\n",
    "for i in rand_n:\n",
    "    if i == 1:\n",
    "        gen_val.append('Male')\n",
    "    else:\n",
    "        gen_val.append('Female')"
   ]
  },
  {
   "cell_type": "code",
   "execution_count": 3548,
   "metadata": {},
   "outputs": [],
   "source": [
    "# replace NaN with the list of random genders\n",
    "df.loc[df.gender == 'No gender', \"gender\"] = gen_val"
   ]
  },
  {
   "cell_type": "code",
   "execution_count": 3549,
   "metadata": {},
   "outputs": [
    {
     "data": {
      "text/plain": [
       "(Male      5449\n",
       " Female    4551\n",
       " Name: gender, dtype: int64,)"
      ]
     },
     "execution_count": 3549,
     "metadata": {},
     "output_type": "execute_result"
    }
   ],
   "source": [
    "df.gender.value_counts(dropna = False), "
   ]
  },
  {
   "cell_type": "code",
   "execution_count": 3550,
   "metadata": {},
   "outputs": [
    {
     "data": {
      "text/plain": [
       "<AxesSubplot:>"
      ]
     },
     "execution_count": 3550,
     "metadata": {},
     "output_type": "execute_result"
    },
    {
     "data": {
      "image/png": "[encoded data removed]",
      "text/plain": [
       "<Figure size 432x288 with 1 Axes>"
      ]
     },
     "metadata": {
      "needs_background": "light"
     },
     "output_type": "display_data"
    }
   ],
   "source": [
    "df.gender.value_counts().plot(kind= 'bar')"
   ]
  },
  {
   "cell_type": "code",
   "execution_count": 3551,
   "metadata": {},
   "outputs": [],
   "source": [
    "assert df.gender.count() == len(df) # assert we fixed all NaN rows"
   ]
  },
  {
   "cell_type": "markdown",
   "metadata": {},
   "source": [
    "## Age Column"
   ]
  },
  {
   "cell_type": "code",
   "execution_count": 3552,
   "metadata": {},
   "outputs": [
    {
     "name": "stdout",
     "output_type": "stream",
     "text": [
      "<class 'numpy.float64'>\n"
     ]
    },
    {
     "data": {
      "text/plain": [
       "(None, 261, 2.6)"
      ]
     },
     "execution_count": 3552,
     "metadata": {},
     "output_type": "execute_result"
    }
   ],
   "source": [
    "# Checking for Type of the variable, Missing values and % of missing values\n",
    "\n",
    "print(type(df.age[0])) , df.age.isna().sum(),  df.age.isna().mean().round(3)*100"
   ]
  },
  {
   "cell_type": "code",
   "execution_count": 3553,
   "metadata": {},
   "outputs": [
    {
     "name": "stdout",
     "output_type": "stream",
     "text": [
      "count    9739.000000\n",
      "mean       38.950816\n",
      "std        10.560797\n",
      "min       -49.000000\n",
      "25%        32.000000\n",
      "50%        37.000000\n",
      "75%        44.000000\n",
      "max        92.000000\n",
      "Name: age, dtype: float64\n"
     ]
    }
   ],
   "source": [
    "# Column Description\n",
    "\n",
    "print(df.age.describe())"
   ]
  },
  {
   "cell_type": "code",
   "execution_count": 3554,
   "metadata": {},
   "outputs": [
    {
     "data": {
      "text/plain": [
       "<AxesSubplot:ylabel='Frequency'>"
      ]
     },
     "execution_count": 3554,
     "metadata": {},
     "output_type": "execute_result"
    },
    {
     "data": {
      "image/png": "[encoded data removed]",
      "text/plain": [
       "<Figure size 432x288 with 1 Axes>"
      ]
     },
     "metadata": {
      "needs_background": "light"
     },
     "output_type": "display_data"
    }
   ],
   "source": [
    "df.age.plot(kind = 'hist', bins = 20)"
   ]
  },
  {
   "cell_type": "code",
   "execution_count": 3555,
   "metadata": {},
   "outputs": [
    {
     "data": {
      "text/plain": [
       "<AxesSubplot:>"
      ]
     },
     "execution_count": 3555,
     "metadata": {},
     "output_type": "execute_result"
    },
    {
     "data": {
      "image/png": "[encoded data removed]",
      "text/plain": [
       "<Figure size 432x288 with 1 Axes>"
      ]
     },
     "metadata": {
      "needs_background": "light"
     },
     "output_type": "display_data"
    }
   ],
   "source": [
    "# finding outliers\n",
    "\n",
    "df.age.plot(kind = 'box')"
   ]
  },
  {
   "cell_type": "markdown",
   "metadata": {},
   "source": [
    "Negative values are meaningless ouliers so they must be replaced, very old customers are outliers but possible (so we will not touch them)"
   ]
  },
  {
   "cell_type": "code",
   "execution_count": 3556,
   "metadata": {},
   "outputs": [
    {
     "data": {
      "text/plain": [
       "37.0"
      ]
     },
     "execution_count": 3556,
     "metadata": {},
     "output_type": "execute_result"
    }
   ],
   "source": [
    "# Calculating median without the outliers which will be replaced\n",
    "\n",
    "median_age = df[df.age > 0][\"age\"].median()\n",
    "median_age"
   ]
  },
  {
   "cell_type": "code",
   "execution_count": 3557,
   "metadata": {},
   "outputs": [],
   "source": [
    "# Replacing outliers and missing values with median age\n",
    "\n",
    "df.age.fillna(median_age, inplace= True)\n",
    "df.loc[df.age < 0, 'age'] = median_age"
   ]
  },
  {
   "cell_type": "code",
   "execution_count": 3558,
   "metadata": {},
   "outputs": [
    {
     "data": {
      "text/plain": [
       "count    10000.00000\n",
       "mean        38.91450\n",
       "std         10.37114\n",
       "min         18.00000\n",
       "25%         32.00000\n",
       "50%         37.00000\n",
       "75%         44.00000\n",
       "max         92.00000\n",
       "Name: age, dtype: float64"
      ]
     },
     "execution_count": 3558,
     "metadata": {},
     "output_type": "execute_result"
    }
   ],
   "source": [
    "df.age.describe()"
   ]
  },
  {
   "cell_type": "code",
   "execution_count": 3559,
   "metadata": {},
   "outputs": [
    {
     "data": {
      "text/plain": [
       "<AxesSubplot:ylabel='Frequency'>"
      ]
     },
     "execution_count": 3559,
     "metadata": {},
     "output_type": "execute_result"
    },
    {
     "data": {
      "image/png": "[encoded data removed]",
      "text/plain": [
       "<Figure size 432x288 with 1 Axes>"
      ]
     },
     "metadata": {
      "needs_background": "light"
     },
     "output_type": "display_data"
    }
   ],
   "source": [
    "# visual distribution of the dataset population based on age after fixing data\n",
    "df.age.plot(kind= 'hist', bins = 20)"
   ]
  },
  {
   "cell_type": "code",
   "execution_count": 3560,
   "metadata": {},
   "outputs": [
    {
     "data": {
      "text/plain": [
       "<AxesSubplot:>"
      ]
     },
     "execution_count": 3560,
     "metadata": {},
     "output_type": "execute_result"
    },
    {
     "data": {
      "image/png": "[encoded data removed]",
      "text/plain": [
       "<Figure size 432x288 with 1 Axes>"
      ]
     },
     "metadata": {
      "needs_background": "light"
     },
     "output_type": "display_data"
    }
   ],
   "source": [
    "df.age.plot(kind = 'box')"
   ]
  },
  {
   "cell_type": "code",
   "execution_count": 3561,
   "metadata": {},
   "outputs": [
    {
     "data": {
      "text/plain": [
       "numpy.int32"
      ]
     },
     "execution_count": 3561,
     "metadata": {},
     "output_type": "execute_result"
    }
   ],
   "source": [
    "# Changing the type from float to integer\n",
    "\n",
    "df['age']  = df.age.astype('int')\n",
    "type(df.age[0])"
   ]
  },
  {
   "cell_type": "code",
   "execution_count": 3562,
   "metadata": {},
   "outputs": [],
   "source": [
    "assert df.age.count() == len(df) # assert we fixed all NaN rows"
   ]
  },
  {
   "cell_type": "markdown",
   "metadata": {},
   "source": [
    "## Tenure Column"
   ]
  },
  {
   "cell_type": "code",
   "execution_count": 3563,
   "metadata": {},
   "outputs": [
    {
     "name": "stdout",
     "output_type": "stream",
     "text": [
      "<class 'numpy.float64'>\n"
     ]
    },
    {
     "data": {
      "text/plain": [
       "78"
      ]
     },
     "execution_count": 3563,
     "metadata": {},
     "output_type": "execute_result"
    }
   ],
   "source": [
    "# Checking for Type of the variable, Missing values and % of missing values\n",
    "\n",
    "print(type(df.tenure[0]))\n",
    "df.tenure.isna().sum()"
   ]
  },
  {
   "cell_type": "code",
   "execution_count": 3564,
   "metadata": {},
   "outputs": [
    {
     "name": "stdout",
     "output_type": "stream",
     "text": [
      "count    9922.000000\n",
      "mean        5.014316\n",
      "std         2.905638\n",
      "min        -5.000000\n",
      "25%         3.000000\n",
      "50%         5.000000\n",
      "75%         7.000000\n",
      "max        32.044103\n",
      "Name: tenure, dtype: float64\n"
     ]
    }
   ],
   "source": [
    "# Column description\n",
    "\n",
    "print(df.tenure.describe())"
   ]
  },
  {
   "cell_type": "code",
   "execution_count": 3565,
   "metadata": {},
   "outputs": [
    {
     "data": {
      "text/plain": [
       "<AxesSubplot:ylabel='Frequency'>"
      ]
     },
     "execution_count": 3565,
     "metadata": {},
     "output_type": "execute_result"
    },
    {
     "data": {
      "image/png": "[encoded data removed]",
      "text/plain": [
       "<Figure size 432x288 with 1 Axes>"
      ]
     },
     "metadata": {
      "needs_background": "light"
     },
     "output_type": "display_data"
    }
   ],
   "source": [
    "df.tenure.plot(kind = 'hist', bins = 11)"
   ]
  },
  {
   "cell_type": "code",
   "execution_count": 3566,
   "metadata": {},
   "outputs": [
    {
     "data": {
      "text/plain": [
       "<AxesSubplot:>"
      ]
     },
     "execution_count": 3566,
     "metadata": {},
     "output_type": "execute_result"
    },
    {
     "data": {
      "image/png": "[encoded data removed]",
      "text/plain": [
       "<Figure size 432x288 with 1 Axes>"
      ]
     },
     "metadata": {
      "needs_background": "light"
     },
     "output_type": "display_data"
    }
   ],
   "source": [
    "# Finding outliers \n",
    "\n",
    "df.tenure.plot(kind = 'box')"
   ]
  },
  {
   "cell_type": "code",
   "execution_count": 3567,
   "metadata": {},
   "outputs": [
    {
     "data": {
      "text/html": [
       "<div>\n",
       "<style scoped>\n",
       "    .dataframe tbody tr th:only-of-type {\n",
       "        vertical-align: middle;\n",
       "    }\n",
       "\n",
       "    .dataframe tbody tr th {\n",
       "        vertical-align: top;\n",
       "    }\n",
       "\n",
       "    .dataframe thead th {\n",
       "        text-align: right;\n",
       "    }\n",
       "</style>\n",
       "<table border=\"1\" class=\"dataframe\">\n",
       "  <thead>\n",
       "    <tr style=\"text-align: right;\">\n",
       "      <th></th>\n",
       "      <th>creditscore</th>\n",
       "      <th>geography</th>\n",
       "      <th>gender</th>\n",
       "      <th>age</th>\n",
       "      <th>tenure</th>\n",
       "      <th>balance</th>\n",
       "      <th>numofproducts</th>\n",
       "      <th>hascrcard</th>\n",
       "      <th>isactivemember</th>\n",
       "      <th>estimatedsalary</th>\n",
       "      <th>exited</th>\n",
       "    </tr>\n",
       "  </thead>\n",
       "  <tbody>\n",
       "    <tr>\n",
       "      <th>5204</th>\n",
       "      <td>430</td>\n",
       "      <td>France</td>\n",
       "      <td>Female</td>\n",
       "      <td>33</td>\n",
       "      <td>32.044103</td>\n",
       "      <td>0.0</td>\n",
       "      <td>1.0</td>\n",
       "      <td>1.0</td>\n",
       "      <td>1.0</td>\n",
       "      <td>69759.91</td>\n",
       "      <td>0</td>\n",
       "    </tr>\n",
       "  </tbody>\n",
       "</table>\n",
       "</div>"
      ],
      "text/plain": [
       "      creditscore geography  gender  age     tenure  balance  numofproducts  \\\n",
       "5204          430    France  Female   33  32.044103      0.0            1.0   \n",
       "\n",
       "      hascrcard  isactivemember  estimatedsalary  exited  \n",
       "5204        1.0             1.0         69759.91       0  "
      ]
     },
     "execution_count": 3567,
     "metadata": {},
     "output_type": "execute_result"
    }
   ],
   "source": [
    "# checking the outlier with very high tenure\n",
    "df[df.tenure > 30]\n",
    "\n",
    "# this tenure value seems to be an error since all tenure value are integers while this one has decimal.\n",
    "# we will correct it together with the other outliers, replacing it with the median"
   ]
  },
  {
   "cell_type": "code",
   "execution_count": 3568,
   "metadata": {},
   "outputs": [],
   "source": [
    "# Outliers to be replaced are negatives values and the one big not-integer value.\n",
    "# Calculating median without outliers, step 1: clean the tenure column and save it as a new df\n",
    "\n",
    "df_tenure_cleaned = df[df.tenure < 30][\"tenure\"].copy()\n",
    "df_tenure_cleaned = df_tenure_cleaned[df_tenure_cleaned > 0]"
   ]
  },
  {
   "cell_type": "code",
   "execution_count": 3569,
   "metadata": {},
   "outputs": [
    {
     "data": {
      "text/plain": [
       "5.0"
      ]
     },
     "execution_count": 3569,
     "metadata": {},
     "output_type": "execute_result"
    }
   ],
   "source": [
    "# step 2: calculate the median of the cleaned column\n",
    "\n",
    "median_tenure = df_tenure_cleaned.median()\n",
    "median_tenure"
   ]
  },
  {
   "cell_type": "code",
   "execution_count": 3570,
   "metadata": {},
   "outputs": [
    {
     "data": {
      "text/plain": [
       "count    10000.000000\n",
       "mean         5.012500\n",
       "std          2.879891\n",
       "min          0.000000\n",
       "25%          3.000000\n",
       "50%          5.000000\n",
       "75%          7.000000\n",
       "max         10.000000\n",
       "Name: tenure, dtype: float64"
      ]
     },
     "execution_count": 3570,
     "metadata": {},
     "output_type": "execute_result"
    }
   ],
   "source": [
    "# Replacing NA's and outliers with median\n",
    "\n",
    "df.loc[df.tenure > 30, 'tenure'] = median_tenure\n",
    "df.tenure.fillna(median_tenure, inplace= True)\n",
    "df.loc[df.tenure < 0, 'tenure'] = median_tenure\n",
    "df.tenure.describe()"
   ]
  },
  {
   "cell_type": "code",
   "execution_count": 3571,
   "metadata": {},
   "outputs": [],
   "source": [
    "assert min(df.tenure) == 0 "
   ]
  },
  {
   "cell_type": "code",
   "execution_count": 3572,
   "metadata": {},
   "outputs": [],
   "source": [
    "# check the consistency between age and tenure:\n",
    "\n",
    "assert (df.age-df.tenure).all() > 0"
   ]
  },
  {
   "cell_type": "code",
   "execution_count": 3573,
   "metadata": {},
   "outputs": [
    {
     "data": {
      "text/plain": [
       "count    10000.000000\n",
       "mean         5.012500\n",
       "std          2.879891\n",
       "min          0.000000\n",
       "25%          3.000000\n",
       "50%          5.000000\n",
       "75%          7.000000\n",
       "max         10.000000\n",
       "Name: tenure, dtype: float64"
      ]
     },
     "execution_count": 3573,
     "metadata": {},
     "output_type": "execute_result"
    }
   ],
   "source": [
    "# final check on tenure distribution and summary\n",
    "\n",
    "df.tenure.describe()"
   ]
  },
  {
   "cell_type": "code",
   "execution_count": 3574,
   "metadata": {},
   "outputs": [
    {
     "data": {
      "text/plain": [
       "<AxesSubplot:>"
      ]
     },
     "execution_count": 3574,
     "metadata": {},
     "output_type": "execute_result"
    },
    {
     "data": {
      "image/png": "[encoded data removed]",
      "text/plain": [
       "<Figure size 432x288 with 1 Axes>"
      ]
     },
     "metadata": {
      "needs_background": "light"
     },
     "output_type": "display_data"
    }
   ],
   "source": [
    "df.tenure.plot( kind = \"box\")"
   ]
  },
  {
   "cell_type": "code",
   "execution_count": 3575,
   "metadata": {},
   "outputs": [
    {
     "data": {
      "text/plain": [
       "<AxesSubplot:ylabel='Frequency'>"
      ]
     },
     "execution_count": 3575,
     "metadata": {},
     "output_type": "execute_result"
    },
    {
     "data": {
      "image/png": "[encoded data removed]",
      "text/plain": [
       "<Figure size 432x288 with 1 Axes>"
      ]
     },
     "metadata": {
      "needs_background": "light"
     },
     "output_type": "display_data"
    }
   ],
   "source": [
    "# visual distribution of the dataset population based on tenure after cleaning the data\n",
    "df.tenure.plot(kind= 'hist', bins = 11)"
   ]
  },
  {
   "cell_type": "code",
   "execution_count": 3576,
   "metadata": {},
   "outputs": [
    {
     "data": {
      "text/plain": [
       "numpy.int32"
      ]
     },
     "execution_count": 3576,
     "metadata": {},
     "output_type": "execute_result"
    }
   ],
   "source": [
    "# Changing the type from float to integer\n",
    "\n",
    "df['tenure']  = df.tenure.astype('int')\n",
    "type(df.tenure[0])"
   ]
  },
  {
   "cell_type": "code",
   "execution_count": 3577,
   "metadata": {},
   "outputs": [],
   "source": [
    "assert df.tenure.count() == len(df) # assert we fixed all NaN rows"
   ]
  },
  {
   "cell_type": "markdown",
   "metadata": {},
   "source": [
    "## Balance Column"
   ]
  },
  {
   "cell_type": "code",
   "execution_count": 3578,
   "metadata": {},
   "outputs": [
    {
     "name": "stdout",
     "output_type": "stream",
     "text": [
      "<class 'numpy.float64'>\n"
     ]
    },
    {
     "data": {
      "text/plain": [
       "(None, 150, 1.5)"
      ]
     },
     "execution_count": 3578,
     "metadata": {},
     "output_type": "execute_result"
    }
   ],
   "source": [
    "# Checking for Type of the variable, Missing values and % of missing values\n",
    "\n",
    "print(type(df.balance[0])), df.balance.isna().sum(), df.balance.isna().mean()*100"
   ]
  },
  {
   "cell_type": "code",
   "execution_count": 3579,
   "metadata": {},
   "outputs": [
    {
     "name": "stdout",
     "output_type": "stream",
     "text": [
      "count       9850.000\n",
      "mean       76722.672\n",
      "std        63727.685\n",
      "min            0.000\n",
      "25%            0.000\n",
      "50%        97245.995\n",
      "75%       127641.418\n",
      "max      1036826.076\n",
      "Name: balance, dtype: float64\n"
     ]
    }
   ],
   "source": [
    "# Describe the column\n",
    "\n",
    "print(df.balance.describe().round(3))"
   ]
  },
  {
   "cell_type": "code",
   "execution_count": 3580,
   "metadata": {},
   "outputs": [
    {
     "data": {
      "text/plain": [
       "<AxesSubplot:ylabel='Frequency'>"
      ]
     },
     "execution_count": 3580,
     "metadata": {},
     "output_type": "execute_result"
    },
    {
     "data": {
      "image/png": "[encoded data removed]",
      "text/plain": [
       "<Figure size 432x288 with 1 Axes>"
      ]
     },
     "metadata": {
      "needs_background": "light"
     },
     "output_type": "display_data"
    }
   ],
   "source": [
    "df.balance.plot(kind = 'hist', bins = 50) # choosing this binning to separate people with balance = 0 or very low, and the others"
   ]
  },
  {
   "cell_type": "markdown",
   "metadata": {},
   "source": [
    "Many people have an empty account or with very low values (maybe they have another account somewhere else where they store their money),<br>\n",
    "while for the rest (probably people using this specific account to store their money), the \"balance\" distribution looks gaussian"
   ]
  },
  {
   "cell_type": "code",
   "execution_count": 3581,
   "metadata": {},
   "outputs": [
    {
     "data": {
      "text/plain": [
       "<AxesSubplot:>"
      ]
     },
     "execution_count": 3581,
     "metadata": {},
     "output_type": "execute_result"
    },
    {
     "data": {
      "image/png": "[encoded data removed]",
      "text/plain": [
       "<Figure size 432x288 with 1 Axes>"
      ]
     },
     "metadata": {
      "needs_background": "light"
     },
     "output_type": "display_data"
    }
   ],
   "source": [
    "# Finding Outliers \n",
    "\n",
    "df.balance.plot(kind = 'box')"
   ]
  },
  {
   "cell_type": "markdown",
   "metadata": {},
   "source": [
    "There are 2 outliers with very high balance"
   ]
  },
  {
   "cell_type": "code",
   "execution_count": 3582,
   "metadata": {},
   "outputs": [
    {
     "data": {
      "text/html": [
       "<div>\n",
       "<style scoped>\n",
       "    .dataframe tbody tr th:only-of-type {\n",
       "        vertical-align: middle;\n",
       "    }\n",
       "\n",
       "    .dataframe tbody tr th {\n",
       "        vertical-align: top;\n",
       "    }\n",
       "\n",
       "    .dataframe thead th {\n",
       "        text-align: right;\n",
       "    }\n",
       "</style>\n",
       "<table border=\"1\" class=\"dataframe\">\n",
       "  <thead>\n",
       "    <tr style=\"text-align: right;\">\n",
       "      <th></th>\n",
       "      <th>creditscore</th>\n",
       "      <th>geography</th>\n",
       "      <th>gender</th>\n",
       "      <th>age</th>\n",
       "      <th>tenure</th>\n",
       "      <th>balance</th>\n",
       "      <th>numofproducts</th>\n",
       "      <th>hascrcard</th>\n",
       "      <th>isactivemember</th>\n",
       "      <th>estimatedsalary</th>\n",
       "      <th>exited</th>\n",
       "    </tr>\n",
       "  </thead>\n",
       "  <tbody>\n",
       "    <tr>\n",
       "      <th>2135</th>\n",
       "      <td>736</td>\n",
       "      <td>Germany</td>\n",
       "      <td>Male</td>\n",
       "      <td>57</td>\n",
       "      <td>9</td>\n",
       "      <td>969780.20</td>\n",
       "      <td>1.0</td>\n",
       "      <td>1.0</td>\n",
       "      <td>0.0</td>\n",
       "      <td>28434.44</td>\n",
       "      <td>1</td>\n",
       "    </tr>\n",
       "    <tr>\n",
       "      <th>5464</th>\n",
       "      <td>556</td>\n",
       "      <td>France</td>\n",
       "      <td>Female</td>\n",
       "      <td>36</td>\n",
       "      <td>2</td>\n",
       "      <td>1036826.08</td>\n",
       "      <td>1.0</td>\n",
       "      <td>0.0</td>\n",
       "      <td>1.0</td>\n",
       "      <td>177670.57</td>\n",
       "      <td>0</td>\n",
       "    </tr>\n",
       "  </tbody>\n",
       "</table>\n",
       "</div>"
      ],
      "text/plain": [
       "      creditscore geography  gender  age  tenure     balance  numofproducts  \\\n",
       "2135          736   Germany    Male   57       9   969780.20            1.0   \n",
       "5464          556    France  Female   36       2  1036826.08            1.0   \n",
       "\n",
       "      hascrcard  isactivemember  estimatedsalary  exited  \n",
       "2135        1.0             0.0         28434.44       1  \n",
       "5464        0.0             1.0        177670.57       0  "
      ]
     },
     "execution_count": 3582,
     "metadata": {},
     "output_type": "execute_result"
    }
   ],
   "source": [
    "# Look up the other variables of the potential outliers\n",
    "\n",
    "df[df.balance > 0.4e6].round(2)"
   ]
  },
  {
   "cell_type": "markdown",
   "metadata": {},
   "source": [
    "Seems to have a low salary for such a huge balance, but they could be possible: 2 people that for some reasons have an high amount of money in their account.<br>\n",
    "##\n",
    "Depending on the model we will use, we can decide to remove them or not: some models are influenced and perform worse with such outliers, in that case you would probably drop them.<br>\n",
    "Other models, such as random forest are not influenced by outliers so we could have kept them.<br>\n",
    "##\n",
    "For this project we decided to replace them with the median together with the NaN."
   ]
  },
  {
   "cell_type": "code",
   "execution_count": 3583,
   "metadata": {},
   "outputs": [
    {
     "data": {
      "text/plain": [
       "<AxesSubplot:>"
      ]
     },
     "execution_count": 3583,
     "metadata": {},
     "output_type": "execute_result"
    },
    {
     "data": {
      "image/png": "[encoded data removed]",
      "text/plain": [
       "<Figure size 432x288 with 1 Axes>"
      ]
     },
     "metadata": {
      "needs_background": "light"
     },
     "output_type": "display_data"
    }
   ],
   "source": [
    "df.loc[df.balance> 0.4e6,'balance'] = df.balance.median()\n",
    "df.balance.plot(kind = 'box')"
   ]
  },
  {
   "cell_type": "markdown",
   "metadata": {},
   "source": [
    "We will raplace NaN with the median since the mean will be too much influenced by the outliers"
   ]
  },
  {
   "cell_type": "code",
   "execution_count": 3584,
   "metadata": {},
   "outputs": [],
   "source": [
    "# Replacing NA's with median\n",
    "\n",
    "df.balance.fillna(df.balance.median(), inplace= True)"
   ]
  },
  {
   "cell_type": "code",
   "execution_count": 3585,
   "metadata": {},
   "outputs": [
    {
     "data": {
      "text/plain": [
       "count     10000.00\n",
       "mean      76849.22\n",
       "std       61925.15\n",
       "min           0.00\n",
       "25%           0.00\n",
       "50%       97240.29\n",
       "75%      127259.43\n",
       "max      250898.09\n",
       "Name: balance, dtype: float64"
      ]
     },
     "execution_count": 3585,
     "metadata": {},
     "output_type": "execute_result"
    }
   ],
   "source": [
    "# final check on the balance columns\n",
    "\n",
    "df.balance.describe().round(2)"
   ]
  },
  {
   "cell_type": "code",
   "execution_count": 3586,
   "metadata": {},
   "outputs": [
    {
     "data": {
      "text/plain": [
       "<AxesSubplot:ylabel='Frequency'>"
      ]
     },
     "execution_count": 3586,
     "metadata": {},
     "output_type": "execute_result"
    },
    {
     "data": {
      "image/png": "[encoded data removed]",
      "text/plain": [
       "<Figure size 432x288 with 1 Axes>"
      ]
     },
     "metadata": {
      "needs_background": "light"
     },
     "output_type": "display_data"
    }
   ],
   "source": [
    "# distr of the balance feature after cleaning the data\n",
    "\n",
    "df.balance.plot(kind = 'hist', bins = 20) # choosing this binning to separate people with balance = 0 or very low, and the others"
   ]
  },
  {
   "cell_type": "code",
   "execution_count": 3587,
   "metadata": {},
   "outputs": [],
   "source": [
    "assert df.balance.count() == len(df) # assert we fixed all NaN rows"
   ]
  },
  {
   "cell_type": "markdown",
   "metadata": {},
   "source": [
    "## Number of products Column\n"
   ]
  },
  {
   "cell_type": "code",
   "execution_count": 3588,
   "metadata": {},
   "outputs": [
    {
     "name": "stdout",
     "output_type": "stream",
     "text": [
      "<class 'numpy.float64'>\n"
     ]
    },
    {
     "data": {
      "text/plain": [
       "(None, 286, 2.86)"
      ]
     },
     "execution_count": 3588,
     "metadata": {},
     "output_type": "execute_result"
    }
   ],
   "source": [
    "# Checking for Type of the variable, Missing values and % of missing values\n",
    "\n",
    "print(type(df.numofproducts[0])), df.numofproducts.isna().sum(), df.numofproducts.isna().mean()*100"
   ]
  },
  {
   "cell_type": "code",
   "execution_count": 3589,
   "metadata": {},
   "outputs": [
    {
     "data": {
      "text/plain": [
       "6135    2.0\n",
       "3424    2.0\n",
       "8993    1.0\n",
       "2305    1.0\n",
       "7305    1.0\n",
       "Name: numofproducts, dtype: float64"
      ]
     },
     "execution_count": 3589,
     "metadata": {},
     "output_type": "execute_result"
    }
   ],
   "source": [
    "df.numofproducts.sample(5)"
   ]
  },
  {
   "cell_type": "code",
   "execution_count": 3590,
   "metadata": {},
   "outputs": [
    {
     "data": {
      "text/plain": [
       " 1.00000     4945\n",
       " 2.00000     4450\n",
       " NaN          286\n",
       " 3.00000      255\n",
       " 4.00000       58\n",
       "-2.00000        3\n",
       "-1.00000        2\n",
       " 11.17746       1\n",
       "Name: numofproducts, dtype: int64"
      ]
     },
     "execution_count": 3590,
     "metadata": {},
     "output_type": "execute_result"
    }
   ],
   "source": [
    "# Description\n",
    "\n",
    "df.numofproducts.value_counts(dropna =False)"
   ]
  },
  {
   "cell_type": "markdown",
   "metadata": {},
   "source": [
    "Number of products is a categorical value with 4 possible meaningful values: 1,2,3,4\n",
    "Negative values are outliers to be replaced. 11.17746 is an error (the rest are integers, you can´have a fraction of a product) in the db and must be replaced as well.\n",
    "Both outliers and NaN will be replace with the mode: nb of products = 1"
   ]
  },
  {
   "cell_type": "code",
   "execution_count": 3591,
   "metadata": {},
   "outputs": [
    {
     "data": {
      "text/plain": [
       "<AxesSubplot:>"
      ]
     },
     "execution_count": 3591,
     "metadata": {},
     "output_type": "execute_result"
    },
    {
     "data": {
      "image/png": "[encoded data removed]",
      "text/plain": [
       "<Figure size 432x288 with 1 Axes>"
      ]
     },
     "metadata": {
      "needs_background": "light"
     },
     "output_type": "display_data"
    }
   ],
   "source": [
    "df.numofproducts.value_counts().plot(kind = 'bar')"
   ]
  },
  {
   "cell_type": "code",
   "execution_count": 3592,
   "metadata": {},
   "outputs": [
    {
     "data": {
      "text/plain": [
       " 1.00000     49.45\n",
       " 2.00000     44.50\n",
       " NaN          2.86\n",
       " 3.00000      2.55\n",
       " 4.00000      0.58\n",
       "-2.00000      0.03\n",
       "-1.00000      0.02\n",
       " 11.17746     0.01\n",
       "Name: numofproducts, dtype: float64"
      ]
     },
     "execution_count": 3592,
     "metadata": {},
     "output_type": "execute_result"
    }
   ],
   "source": [
    "# Looking at the % for each category\n",
    "\n",
    "df.numofproducts.value_counts(dropna =False, normalize= True)*100"
   ]
  },
  {
   "cell_type": "markdown",
   "metadata": {},
   "source": [
    "Only +- 3% of the values are wrong so will not affect the distribution much by using the mode to replace these values"
   ]
  },
  {
   "cell_type": "code",
   "execution_count": 3593,
   "metadata": {},
   "outputs": [],
   "source": [
    "df.numofproducts.fillna(mode(df.numofproducts), inplace=True)\n",
    "\n",
    "df.loc[((df.numofproducts <0) | (df.numofproducts >10)), \"numofproducts\"] =  mode(df.numofproducts)"
   ]
  },
  {
   "cell_type": "code",
   "execution_count": 3594,
   "metadata": {},
   "outputs": [
    {
     "data": {
      "text/plain": [
       "1.0    5237\n",
       "2.0    4450\n",
       "3.0     255\n",
       "4.0      58\n",
       "Name: numofproducts, dtype: int64"
      ]
     },
     "execution_count": 3594,
     "metadata": {},
     "output_type": "execute_result"
    }
   ],
   "source": [
    "df.numofproducts.value_counts(dropna= False)"
   ]
  },
  {
   "cell_type": "code",
   "execution_count": 3595,
   "metadata": {},
   "outputs": [
    {
     "data": {
      "text/plain": [
       "<AxesSubplot:>"
      ]
     },
     "execution_count": 3595,
     "metadata": {},
     "output_type": "execute_result"
    },
    {
     "data": {
      "image/png": "[encoded data removed]",
      "text/plain": [
       "<Figure size 432x288 with 1 Axes>"
      ]
     },
     "metadata": {
      "needs_background": "light"
     },
     "output_type": "display_data"
    }
   ],
   "source": [
    "# final look at the nb of products column after correcting the data:\n",
    "\n",
    "df.numofproducts.value_counts().plot(kind = 'bar')"
   ]
  },
  {
   "cell_type": "code",
   "execution_count": 3596,
   "metadata": {},
   "outputs": [
    {
     "data": {
      "text/plain": [
       "numpy.int32"
      ]
     },
     "execution_count": 3596,
     "metadata": {},
     "output_type": "execute_result"
    }
   ],
   "source": [
    "# Changing the type from float to integer.\n",
    "\n",
    "df['numofproducts']  = df.numofproducts.astype('int')\n",
    "type(df.numofproducts[0])"
   ]
  },
  {
   "cell_type": "code",
   "execution_count": 3597,
   "metadata": {},
   "outputs": [],
   "source": [
    "assert df.numofproducts.count() == len(df) # assert we fixed all NaN rows"
   ]
  },
  {
   "cell_type": "markdown",
   "metadata": {},
   "source": [
    "## Has Credit Card Column"
   ]
  },
  {
   "cell_type": "code",
   "execution_count": 3598,
   "metadata": {},
   "outputs": [
    {
     "data": {
      "text/plain": [
       "(numpy.float64, 80, 0.8)"
      ]
     },
     "execution_count": 3598,
     "metadata": {},
     "output_type": "execute_result"
    }
   ],
   "source": [
    "# Checking for Type of the variable, Missing values and % of missing values\n",
    "\n",
    "type(df.hascrcard[0]), df.hascrcard.isna().sum(), df.hascrcard.isna().mean()*100"
   ]
  },
  {
   "cell_type": "code",
   "execution_count": 3599,
   "metadata": {},
   "outputs": [
    {
     "name": "stdout",
     "output_type": "stream",
     "text": [
      "1.0    6996\n",
      "0.0    2924\n",
      "NaN      80\n",
      "Name: hascrcard, dtype: int64\n",
      "1.0    69.96\n",
      "0.0    29.24\n",
      "NaN     0.80\n",
      "Name: hascrcard, dtype: float64\n"
     ]
    }
   ],
   "source": [
    "# Frequency table absolute and in %\n",
    "\n",
    "print(df.hascrcard.value_counts(dropna = False))\n",
    "print(df.hascrcard.value_counts(dropna = False, normalize= True)*100)"
   ]
  },
  {
   "cell_type": "markdown",
   "metadata": {},
   "source": [
    "Only 0.8 % of missing value, we can drop them. This is because we can´t impute if the customer had or not a credit card."
   ]
  },
  {
   "cell_type": "code",
   "execution_count": 3600,
   "metadata": {},
   "outputs": [],
   "source": [
    "df.dropna(subset= [\"hascrcard\"], how =\"any\", inplace =True)"
   ]
  },
  {
   "cell_type": "code",
   "execution_count": 3601,
   "metadata": {},
   "outputs": [],
   "source": [
    "assert df.hascrcard.isna().any() == False"
   ]
  },
  {
   "cell_type": "code",
   "execution_count": 3602,
   "metadata": {},
   "outputs": [
    {
     "data": {
      "text/plain": [
       "<AxesSubplot:>"
      ]
     },
     "execution_count": 3602,
     "metadata": {},
     "output_type": "execute_result"
    },
    {
     "data": {
      "image/png": "[encoded data removed]",
      "text/plain": [
       "<Figure size 432x288 with 1 Axes>"
      ]
     },
     "metadata": {
      "needs_background": "light"
     },
     "output_type": "display_data"
    }
   ],
   "source": [
    "# Plotting frequencies after correcting the data\n",
    "\n",
    "df.hascrcard.value_counts().plot(kind = 'bar')"
   ]
  },
  {
   "cell_type": "code",
   "execution_count": 3603,
   "metadata": {},
   "outputs": [
    {
     "data": {
      "text/plain": [
       "1.0    6996\n",
       "0.0    2924\n",
       "Name: hascrcard, dtype: int64"
      ]
     },
     "execution_count": 3603,
     "metadata": {},
     "output_type": "execute_result"
    }
   ],
   "source": [
    "df.hascrcard.value_counts(dropna =False)"
   ]
  },
  {
   "cell_type": "code",
   "execution_count": 3604,
   "metadata": {},
   "outputs": [
    {
     "data": {
      "text/plain": [
       "numpy.int32"
      ]
     },
     "execution_count": 3604,
     "metadata": {},
     "output_type": "execute_result"
    }
   ],
   "source": [
    "# Changing the type from float to integer.\n",
    "\n",
    "df['hascrcard']  = df.hascrcard.astype('int')\n",
    "type(df.hascrcard[0])"
   ]
  },
  {
   "cell_type": "code",
   "execution_count": 3605,
   "metadata": {},
   "outputs": [],
   "source": [
    "assert df.hascrcard.count() == len(df) # assert we fixed all NaN rows"
   ]
  },
  {
   "cell_type": "markdown",
   "metadata": {},
   "source": [
    "## Is Active Member Column"
   ]
  },
  {
   "cell_type": "code",
   "execution_count": 3606,
   "metadata": {},
   "outputs": [
    {
     "name": "stdout",
     "output_type": "stream",
     "text": [
      "<class 'numpy.float64'>\n"
     ]
    },
    {
     "data": {
      "text/plain": [
       "(None, 87, 0.8999999999999999)"
      ]
     },
     "execution_count": 3606,
     "metadata": {},
     "output_type": "execute_result"
    }
   ],
   "source": [
    "# Checking for Type of the variable, Missing values and % of missing values\n",
    "\n",
    "print(type(df.isactivemember[0])), df.isactivemember.isna().sum(), df.isactivemember.isna().mean().round(3)*100"
   ]
  },
  {
   "cell_type": "code",
   "execution_count": 3607,
   "metadata": {},
   "outputs": [
    {
     "data": {
      "text/plain": [
       "1.0    5068\n",
       "0.0    4765\n",
       "NaN      87\n",
       "Name: isactivemember, dtype: int64"
      ]
     },
     "execution_count": 3607,
     "metadata": {},
     "output_type": "execute_result"
    }
   ],
   "source": [
    "# Frequency table\n",
    "\n",
    "df.isactivemember.value_counts(dropna = False)"
   ]
  },
  {
   "cell_type": "markdown",
   "metadata": {},
   "source": [
    "Same as last column, Only around 0.9 % of missing value, we can drop then without affecting the the  and we can´t impute if the customer is active or not"
   ]
  },
  {
   "cell_type": "code",
   "execution_count": 3608,
   "metadata": {},
   "outputs": [],
   "source": [
    "df.dropna(subset= [\"isactivemember\"], how =\"any\", inplace =True)"
   ]
  },
  {
   "cell_type": "code",
   "execution_count": 3609,
   "metadata": {},
   "outputs": [],
   "source": [
    "assert df.isactivemember.isna().any() == False"
   ]
  },
  {
   "cell_type": "code",
   "execution_count": 3610,
   "metadata": {},
   "outputs": [
    {
     "data": {
      "text/plain": [
       "<AxesSubplot:>"
      ]
     },
     "execution_count": 3610,
     "metadata": {},
     "output_type": "execute_result"
    },
    {
     "data": {
      "image/png": "[encoded data removed]",
      "text/plain": [
       "<Figure size 432x288 with 1 Axes>"
      ]
     },
     "metadata": {
      "needs_background": "light"
     },
     "output_type": "display_data"
    }
   ],
   "source": [
    "# Plotting frequencies after cleaning the data\n",
    "\n",
    "df.isactivemember.value_counts().plot(kind = 'bar')"
   ]
  },
  {
   "cell_type": "code",
   "execution_count": 3611,
   "metadata": {},
   "outputs": [
    {
     "data": {
      "text/plain": [
       "numpy.int32"
      ]
     },
     "execution_count": 3611,
     "metadata": {},
     "output_type": "execute_result"
    }
   ],
   "source": [
    "# Changing the type from float to integer.\n",
    "\n",
    "df['isactivemember']  = df.isactivemember.astype('int')\n",
    "type(df.isactivemember[0])"
   ]
  },
  {
   "cell_type": "code",
   "execution_count": 3612,
   "metadata": {},
   "outputs": [],
   "source": [
    "assert df.isactivemember.count() == len(df) # assert we fixed all NaN rows"
   ]
  },
  {
   "cell_type": "markdown",
   "metadata": {},
   "source": [
    "## Estimated Salary "
   ]
  },
  {
   "cell_type": "code",
   "execution_count": 3613,
   "metadata": {},
   "outputs": [
    {
     "data": {
      "text/plain": [
       "(numpy.float64, 43, 0.4)"
      ]
     },
     "execution_count": 3613,
     "metadata": {},
     "output_type": "execute_result"
    }
   ],
   "source": [
    "# Checking for type and missing values and % of missing values\n",
    "type(df.estimatedsalary[0]), df.estimatedsalary.isna().sum(), df.estimatedsalary.isna().mean().round(3)*100"
   ]
  },
  {
   "cell_type": "code",
   "execution_count": 3614,
   "metadata": {},
   "outputs": [
    {
     "name": "stdout",
     "output_type": "stream",
     "text": [
      "count      9790.000000\n",
      "mean     100188.120488\n",
      "std       57555.997241\n",
      "min          11.580000\n",
      "25%       51102.870000\n",
      "50%      100272.165000\n",
      "75%      149547.250000\n",
      "max      199992.480000\n",
      "Name: estimatedsalary, dtype: float64\n"
     ]
    }
   ],
   "source": [
    "# Description\n",
    "\n",
    "print(df.estimatedsalary.describe())"
   ]
  },
  {
   "cell_type": "code",
   "execution_count": 3615,
   "metadata": {},
   "outputs": [
    {
     "data": {
      "text/plain": [
       "<AxesSubplot:>"
      ]
     },
     "execution_count": 3615,
     "metadata": {},
     "output_type": "execute_result"
    },
    {
     "data": {
      "image/png": "[encoded data removed]",
      "text/plain": [
       "<Figure size 432x288 with 1 Axes>"
      ]
     },
     "metadata": {
      "needs_background": "light"
     },
     "output_type": "display_data"
    }
   ],
   "source": [
    "# Finding Outliers\n",
    "\n",
    "df.estimatedsalary.plot(kind ='box')\n"
   ]
  },
  {
   "cell_type": "code",
   "execution_count": 3616,
   "metadata": {},
   "outputs": [
    {
     "data": {
      "text/plain": [
       "<AxesSubplot:ylabel='Frequency'>"
      ]
     },
     "execution_count": 3616,
     "metadata": {},
     "output_type": "execute_result"
    },
    {
     "data": {
      "image/png": "[encoded data removed]",
      "text/plain": [
       "<Figure size 432x288 with 1 Axes>"
      ]
     },
     "metadata": {
      "needs_background": "light"
     },
     "output_type": "display_data"
    }
   ],
   "source": [
    "df.estimatedsalary.plot(kind ='hist', bins = 20)"
   ]
  },
  {
   "cell_type": "markdown",
   "metadata": {},
   "source": [
    "Probably some of the small values are wrong, but we cannot make assumptions on them, so we will keep them as they are"
   ]
  },
  {
   "cell_type": "markdown",
   "metadata": {},
   "source": [
    "NaN: only 0.4 % of the values are NaN, so we can drop them"
   ]
  },
  {
   "cell_type": "code",
   "execution_count": 3617,
   "metadata": {},
   "outputs": [],
   "source": [
    "df.dropna(subset= [\"estimatedsalary\"], how =\"any\", inplace =True)"
   ]
  },
  {
   "cell_type": "code",
   "execution_count": 3618,
   "metadata": {},
   "outputs": [],
   "source": [
    "assert df.estimatedsalary.count() == len(df) # assert we fixed all NaN rows"
   ]
  },
  {
   "cell_type": "markdown",
   "metadata": {},
   "source": [
    "## Exited Column\n"
   ]
  },
  {
   "cell_type": "markdown",
   "metadata": {},
   "source": [
    "This will probably be the output for our model: knowing if a customer will leave the bank or not.\n",
    "We checked already that the column has no NaN."
   ]
  },
  {
   "cell_type": "code",
   "execution_count": 3619,
   "metadata": {},
   "outputs": [
    {
     "name": "stdout",
     "output_type": "stream",
     "text": [
      "0    7794\n",
      "1    1996\n",
      "Name: exited, dtype: int64\n"
     ]
    },
    {
     "data": {
      "text/plain": [
       "<AxesSubplot:>"
      ]
     },
     "execution_count": 3619,
     "metadata": {},
     "output_type": "execute_result"
    },
    {
     "data": {
      "image/png": "[encoded data removed]",
      "text/plain": [
       "<Figure size 432x288 with 1 Axes>"
      ]
     },
     "metadata": {
      "needs_background": "light"
     },
     "output_type": "display_data"
    }
   ],
   "source": [
    "# Checking for nonsense values ad having a general look at the column values\n",
    "\n",
    "print(df.exited.value_counts())\n",
    "df.exited.value_counts().plot(kind = 'bar')"
   ]
  },
  {
   "cell_type": "code",
   "execution_count": 3620,
   "metadata": {},
   "outputs": [
    {
     "data": {
      "text/plain": [
       "numpy.int32"
      ]
     },
     "execution_count": 3620,
     "metadata": {},
     "output_type": "execute_result"
    }
   ],
   "source": [
    "# Changing the type from int64 to int32 for consistency with all other variables\n",
    "\n",
    "df['exited']  = df.exited.astype('int')\n",
    "type(df.exited[0])"
   ]
  },
  {
   "cell_type": "markdown",
   "metadata": {},
   "source": [
    "The column has no non-sense values: excited is 0 or 1.<br>"
   ]
  },
  {
   "cell_type": "code",
   "execution_count": 3621,
   "metadata": {},
   "outputs": [
    {
     "data": {
      "text/plain": [
       "0    80.0\n",
       "1    20.0\n",
       "Name: exited, dtype: float64"
      ]
     },
     "execution_count": 3621,
     "metadata": {},
     "output_type": "execute_result"
    }
   ],
   "source": [
    "# checking how balanced/unbalanced the output column is:\n",
    "\n",
    "(df.exited.value_counts()/len(df)).round(2)*100"
   ]
  },
  {
   "cell_type": "markdown",
   "metadata": {},
   "source": [
    "The dataset is unbalanced with more customers who has not left compared with customers who left.<br>\n",
    "This should be taken into consideration in the future model to be done and deal with.<br>"
   ]
  },
  {
   "cell_type": "code",
   "execution_count": 3622,
   "metadata": {},
   "outputs": [],
   "source": [
    "assert df.exited.count() == len(df) # assert we fixed all NaN rows/ consistency in row numbers"
   ]
  },
  {
   "cell_type": "markdown",
   "metadata": {},
   "source": [
    "## 4) Final look at our dataset after cleaning ##"
   ]
  },
  {
   "cell_type": "code",
   "execution_count": 3623,
   "metadata": {},
   "outputs": [
    {
     "name": "stdout",
     "output_type": "stream",
     "text": [
      "<class 'pandas.core.frame.DataFrame'>\n",
      "Int64Index: 9790 entries, 0 to 9999\n",
      "Data columns (total 11 columns):\n",
      " #   Column           Non-Null Count  Dtype  \n",
      "---  ------           --------------  -----  \n",
      " 0   creditscore      9790 non-null   int32  \n",
      " 1   geography        9790 non-null   object \n",
      " 2   gender           9790 non-null   object \n",
      " 3   age              9790 non-null   int32  \n",
      " 4   tenure           9790 non-null   int32  \n",
      " 5   balance          9790 non-null   float64\n",
      " 6   numofproducts    9790 non-null   int32  \n",
      " 7   hascrcard        9790 non-null   int32  \n",
      " 8   isactivemember   9790 non-null   int32  \n",
      " 9   estimatedsalary  9790 non-null   float64\n",
      " 10  exited           9790 non-null   int32  \n",
      "dtypes: float64(2), int32(7), object(2)\n",
      "memory usage: 908.2+ KB\n"
     ]
    }
   ],
   "source": [
    "df.info()"
   ]
  },
  {
   "cell_type": "code",
   "execution_count": 3624,
   "metadata": {},
   "outputs": [
    {
     "data": {
      "text/html": [
       "<div>\n",
       "<style scoped>\n",
       "    .dataframe tbody tr th:only-of-type {\n",
       "        vertical-align: middle;\n",
       "    }\n",
       "\n",
       "    .dataframe tbody tr th {\n",
       "        vertical-align: top;\n",
       "    }\n",
       "\n",
       "    .dataframe thead th {\n",
       "        text-align: right;\n",
       "    }\n",
       "</style>\n",
       "<table border=\"1\" class=\"dataframe\">\n",
       "  <thead>\n",
       "    <tr style=\"text-align: right;\">\n",
       "      <th></th>\n",
       "      <th>creditscore</th>\n",
       "      <th>geography</th>\n",
       "      <th>gender</th>\n",
       "      <th>age</th>\n",
       "      <th>tenure</th>\n",
       "      <th>balance</th>\n",
       "      <th>numofproducts</th>\n",
       "      <th>hascrcard</th>\n",
       "      <th>isactivemember</th>\n",
       "      <th>estimatedsalary</th>\n",
       "      <th>exited</th>\n",
       "    </tr>\n",
       "  </thead>\n",
       "  <tbody>\n",
       "    <tr>\n",
       "      <th>0</th>\n",
       "      <td>619</td>\n",
       "      <td>France</td>\n",
       "      <td>Female</td>\n",
       "      <td>42</td>\n",
       "      <td>2</td>\n",
       "      <td>0.00</td>\n",
       "      <td>1</td>\n",
       "      <td>1</td>\n",
       "      <td>1</td>\n",
       "      <td>101348.88</td>\n",
       "      <td>1</td>\n",
       "    </tr>\n",
       "    <tr>\n",
       "      <th>1</th>\n",
       "      <td>608</td>\n",
       "      <td>Spain</td>\n",
       "      <td>Female</td>\n",
       "      <td>41</td>\n",
       "      <td>1</td>\n",
       "      <td>83807.86</td>\n",
       "      <td>1</td>\n",
       "      <td>0</td>\n",
       "      <td>1</td>\n",
       "      <td>112542.58</td>\n",
       "      <td>0</td>\n",
       "    </tr>\n",
       "    <tr>\n",
       "      <th>2</th>\n",
       "      <td>502</td>\n",
       "      <td>France</td>\n",
       "      <td>Female</td>\n",
       "      <td>42</td>\n",
       "      <td>8</td>\n",
       "      <td>159660.80</td>\n",
       "      <td>3</td>\n",
       "      <td>1</td>\n",
       "      <td>0</td>\n",
       "      <td>113931.57</td>\n",
       "      <td>1</td>\n",
       "    </tr>\n",
       "    <tr>\n",
       "      <th>3</th>\n",
       "      <td>850</td>\n",
       "      <td>Spain</td>\n",
       "      <td>Female</td>\n",
       "      <td>43</td>\n",
       "      <td>2</td>\n",
       "      <td>125510.82</td>\n",
       "      <td>1</td>\n",
       "      <td>1</td>\n",
       "      <td>1</td>\n",
       "      <td>79084.10</td>\n",
       "      <td>0</td>\n",
       "    </tr>\n",
       "    <tr>\n",
       "      <th>4</th>\n",
       "      <td>645</td>\n",
       "      <td>Spain</td>\n",
       "      <td>Male</td>\n",
       "      <td>44</td>\n",
       "      <td>8</td>\n",
       "      <td>113755.78</td>\n",
       "      <td>2</td>\n",
       "      <td>1</td>\n",
       "      <td>0</td>\n",
       "      <td>149756.71</td>\n",
       "      <td>1</td>\n",
       "    </tr>\n",
       "    <tr>\n",
       "      <th>...</th>\n",
       "      <td>...</td>\n",
       "      <td>...</td>\n",
       "      <td>...</td>\n",
       "      <td>...</td>\n",
       "      <td>...</td>\n",
       "      <td>...</td>\n",
       "      <td>...</td>\n",
       "      <td>...</td>\n",
       "      <td>...</td>\n",
       "      <td>...</td>\n",
       "      <td>...</td>\n",
       "    </tr>\n",
       "    <tr>\n",
       "      <th>9785</th>\n",
       "      <td>771</td>\n",
       "      <td>France</td>\n",
       "      <td>Male</td>\n",
       "      <td>39</td>\n",
       "      <td>5</td>\n",
       "      <td>0.00</td>\n",
       "      <td>2</td>\n",
       "      <td>1</td>\n",
       "      <td>0</td>\n",
       "      <td>96270.64</td>\n",
       "      <td>0</td>\n",
       "    </tr>\n",
       "    <tr>\n",
       "      <th>9786</th>\n",
       "      <td>516</td>\n",
       "      <td>France</td>\n",
       "      <td>Male</td>\n",
       "      <td>35</td>\n",
       "      <td>10</td>\n",
       "      <td>57369.61</td>\n",
       "      <td>1</td>\n",
       "      <td>1</td>\n",
       "      <td>1</td>\n",
       "      <td>101699.77</td>\n",
       "      <td>0</td>\n",
       "    </tr>\n",
       "    <tr>\n",
       "      <th>9787</th>\n",
       "      <td>709</td>\n",
       "      <td>France</td>\n",
       "      <td>Female</td>\n",
       "      <td>36</td>\n",
       "      <td>7</td>\n",
       "      <td>0.00</td>\n",
       "      <td>1</td>\n",
       "      <td>0</td>\n",
       "      <td>1</td>\n",
       "      <td>42085.58</td>\n",
       "      <td>1</td>\n",
       "    </tr>\n",
       "    <tr>\n",
       "      <th>9788</th>\n",
       "      <td>772</td>\n",
       "      <td>Germany</td>\n",
       "      <td>Male</td>\n",
       "      <td>42</td>\n",
       "      <td>3</td>\n",
       "      <td>75075.31</td>\n",
       "      <td>2</td>\n",
       "      <td>1</td>\n",
       "      <td>0</td>\n",
       "      <td>92888.52</td>\n",
       "      <td>1</td>\n",
       "    </tr>\n",
       "    <tr>\n",
       "      <th>9789</th>\n",
       "      <td>792</td>\n",
       "      <td>France</td>\n",
       "      <td>Female</td>\n",
       "      <td>28</td>\n",
       "      <td>4</td>\n",
       "      <td>130142.79</td>\n",
       "      <td>1</td>\n",
       "      <td>1</td>\n",
       "      <td>0</td>\n",
       "      <td>38190.78</td>\n",
       "      <td>0</td>\n",
       "    </tr>\n",
       "  </tbody>\n",
       "</table>\n",
       "<p>9790 rows × 11 columns</p>\n",
       "</div>"
      ],
      "text/plain": [
       "      creditscore geography  gender  age  tenure    balance  numofproducts  \\\n",
       "0             619    France  Female   42       2       0.00              1   \n",
       "1             608     Spain  Female   41       1   83807.86              1   \n",
       "2             502    France  Female   42       8  159660.80              3   \n",
       "3             850     Spain  Female   43       2  125510.82              1   \n",
       "4             645     Spain    Male   44       8  113755.78              2   \n",
       "...           ...       ...     ...  ...     ...        ...            ...   \n",
       "9785          771    France    Male   39       5       0.00              2   \n",
       "9786          516    France    Male   35      10   57369.61              1   \n",
       "9787          709    France  Female   36       7       0.00              1   \n",
       "9788          772   Germany    Male   42       3   75075.31              2   \n",
       "9789          792    France  Female   28       4  130142.79              1   \n",
       "\n",
       "      hascrcard  isactivemember  estimatedsalary  exited  \n",
       "0             1               1        101348.88       1  \n",
       "1             0               1        112542.58       0  \n",
       "2             1               0        113931.57       1  \n",
       "3             1               1         79084.10       0  \n",
       "4             1               0        149756.71       1  \n",
       "...         ...             ...              ...     ...  \n",
       "9785          1               0         96270.64       0  \n",
       "9786          1               1        101699.77       0  \n",
       "9787          0               1         42085.58       1  \n",
       "9788          1               0         92888.52       1  \n",
       "9789          1               0         38190.78       0  \n",
       "\n",
       "[9790 rows x 11 columns]"
      ]
     },
     "execution_count": 3624,
     "metadata": {},
     "output_type": "execute_result"
    }
   ],
   "source": [
    "df = df.reset_index(drop = True) # resetting the index before saving the file\n",
    "df"
   ]
  },
  {
   "cell_type": "markdown",
   "metadata": {},
   "source": [
    "## Saving for using it in Data Visualization (before transformation)"
   ]
  },
  {
   "cell_type": "code",
   "execution_count": 3625,
   "metadata": {},
   "outputs": [],
   "source": [
    "df.to_csv('churn_data_cleaned.csv')"
   ]
  }
 ],
 "metadata": {
  "interpreter": {
   "hash": "9a450a3d7bd3c64c0f4e244583babdfca737596d1a49258f2f17e6657f578f42"
  },
  "kernelspec": {
   "display_name": "Python 3.8.8 64-bit ('base': conda)",
   "name": "python3"
  },
  "language_info": {
   "codemirror_mode": {
    "name": "ipython",
    "version": 3
   },
   "file_extension": ".py",
   "mimetype": "text/x-python",
   "name": "python",
   "nbconvert_exporter": "python",
   "pygments_lexer": "ipython3",
   "version": "3.8.8"
  },
  "orig_nbformat": 4
 },
 "nbformat": 4,
 "nbformat_minor": 2
}
