{
 "cells": [
  {
   "cell_type": "markdown",
   "metadata": {},
   "source": [
    "# Data cleaning Project1: Dati Luca and Miori Gloria"
   ]
  },
  {
   "cell_type": "markdown",
   "metadata": {},
   "source": [
    "## 1) Load packages and data"
   ]
  },
  {
   "cell_type": "code",
   "execution_count": 2163,
   "metadata": {},
   "outputs": [],
   "source": [
    "# Importing packages\n",
    "\n",
    "import pandas as pd\n",
    "import numpy as np\n",
    "import plotly.express as px\n",
    "\n",
    "df = pd.read_csv('churn_data_before_processing.csv', index_col= 0)"
   ]
  },
  {
   "cell_type": "markdown",
   "metadata": {},
   "source": [
    "## 2) First look at the data\n",
    "\n",
    "In this part we look at the data as a whole to understand the nature of the data, find information about the type of data we are working with and what each field/feature in the data means.\n",
    "We look at the size of the dataset, if there are duplicated values and NaN values.\n"
   ]
  },
  {
   "cell_type": "markdown",
   "metadata": {},
   "source": [
    "The dataset has 10150 rows and 14 columns.<br>\n",
    "Not all columns will be significant for the analysis.<br>\n",
    "RowNumber is not of interest and can be eliminated.<br>\n",
    "Some insights on the non-trivial columns:<br>\n",
    "    $\\ CustomerId is a unique identifier and can be used to see if there are duplicated data in the dataset.<br>\n",
    "    - CreditScore is a number between 300–850 that depicts a consumer's creditworthiness.<br>\n",
    "    - Tenure means the length of time a customer has been with the bank in years<br>\n",
    "    - Balance is the amount of money held in a bank account at a given moment<br>\n",
    "    - Estimated salary is the estimated salary per year (probably in Euro based on the Geography column)<br>\n",
    "    - Exited says if the customer left the bank or not. This will probably be the outcome we will want from a model<br>"
   ]
  },
  {
   "cell_type": "code",
   "execution_count": 2164,
   "metadata": {},
   "outputs": [
    {
     "data": {
      "text/html": [
       "<div>\n",
       "<style scoped>\n",
       "    .dataframe tbody tr th:only-of-type {\n",
       "        vertical-align: middle;\n",
       "    }\n",
       "\n",
       "    .dataframe tbody tr th {\n",
       "        vertical-align: top;\n",
       "    }\n",
       "\n",
       "    .dataframe thead th {\n",
       "        text-align: right;\n",
       "    }\n",
       "</style>\n",
       "<table border=\"1\" class=\"dataframe\">\n",
       "  <thead>\n",
       "    <tr style=\"text-align: right;\">\n",
       "      <th></th>\n",
       "      <th>RowNumber</th>\n",
       "      <th>CustomerId</th>\n",
       "      <th>Surname</th>\n",
       "      <th>CreditScore</th>\n",
       "      <th>Geography</th>\n",
       "      <th>Gender</th>\n",
       "      <th>Age</th>\n",
       "      <th>Tenure</th>\n",
       "      <th>Balance</th>\n",
       "      <th>NumOfProducts</th>\n",
       "      <th>HasCrCard</th>\n",
       "      <th>IsActiveMember</th>\n",
       "      <th>EstimatedSalary</th>\n",
       "      <th>Exited</th>\n",
       "    </tr>\n",
       "  </thead>\n",
       "  <tbody>\n",
       "    <tr>\n",
       "      <th>1612</th>\n",
       "      <td>1613</td>\n",
       "      <td>15649121</td>\n",
       "      <td>Pinto</td>\n",
       "      <td>665.0</td>\n",
       "      <td>France</td>\n",
       "      <td>Male</td>\n",
       "      <td>52.0</td>\n",
       "      <td>3.0</td>\n",
       "      <td>0.00</td>\n",
       "      <td>1.0</td>\n",
       "      <td>1.0</td>\n",
       "      <td>0.0</td>\n",
       "      <td>116137.01</td>\n",
       "      <td>1</td>\n",
       "    </tr>\n",
       "    <tr>\n",
       "      <th>8161</th>\n",
       "      <td>8162</td>\n",
       "      <td>15615352</td>\n",
       "      <td>Ebelechukwu</td>\n",
       "      <td>588.0</td>\n",
       "      <td>France</td>\n",
       "      <td>Male</td>\n",
       "      <td>31.0</td>\n",
       "      <td>4.0</td>\n",
       "      <td>99607.37</td>\n",
       "      <td>2.0</td>\n",
       "      <td>0.0</td>\n",
       "      <td>1.0</td>\n",
       "      <td>35877.03</td>\n",
       "      <td>0</td>\n",
       "    </tr>\n",
       "    <tr>\n",
       "      <th>2976</th>\n",
       "      <td>2977</td>\n",
       "      <td>15667265</td>\n",
       "      <td>Cavenagh</td>\n",
       "      <td>729.0</td>\n",
       "      <td>France</td>\n",
       "      <td>Male</td>\n",
       "      <td>39.0</td>\n",
       "      <td>4.0</td>\n",
       "      <td>121404.64</td>\n",
       "      <td>1.0</td>\n",
       "      <td>1.0</td>\n",
       "      <td>1.0</td>\n",
       "      <td>159618.17</td>\n",
       "      <td>0</td>\n",
       "    </tr>\n",
       "    <tr>\n",
       "      <th>7300</th>\n",
       "      <td>7301</td>\n",
       "      <td>15788224</td>\n",
       "      <td>Sanderson</td>\n",
       "      <td>669.0</td>\n",
       "      <td>Germany</td>\n",
       "      <td>Male</td>\n",
       "      <td>45.0</td>\n",
       "      <td>1.0</td>\n",
       "      <td>123949.75</td>\n",
       "      <td>1.0</td>\n",
       "      <td>0.0</td>\n",
       "      <td>0.0</td>\n",
       "      <td>110881.56</td>\n",
       "      <td>0</td>\n",
       "    </tr>\n",
       "    <tr>\n",
       "      <th>7320</th>\n",
       "      <td>7321</td>\n",
       "      <td>15778142</td>\n",
       "      <td>Shih</td>\n",
       "      <td>850.0</td>\n",
       "      <td>Germany</td>\n",
       "      <td>Female</td>\n",
       "      <td>31.0</td>\n",
       "      <td>1.0</td>\n",
       "      <td>NaN</td>\n",
       "      <td>2.0</td>\n",
       "      <td>1.0</td>\n",
       "      <td>1.0</td>\n",
       "      <td>4466.21</td>\n",
       "      <td>0</td>\n",
       "    </tr>\n",
       "    <tr>\n",
       "      <th>4120</th>\n",
       "      <td>4121</td>\n",
       "      <td>15610105</td>\n",
       "      <td>Shen</td>\n",
       "      <td>666.0</td>\n",
       "      <td>Germany</td>\n",
       "      <td>Female</td>\n",
       "      <td>21.0</td>\n",
       "      <td>1.0</td>\n",
       "      <td>121827.43</td>\n",
       "      <td>2.0</td>\n",
       "      <td>1.0</td>\n",
       "      <td>1.0</td>\n",
       "      <td>99818.31</td>\n",
       "      <td>0</td>\n",
       "    </tr>\n",
       "    <tr>\n",
       "      <th>2481</th>\n",
       "      <td>2482</td>\n",
       "      <td>15764105</td>\n",
       "      <td>Milne</td>\n",
       "      <td>475.0</td>\n",
       "      <td>France</td>\n",
       "      <td>Female</td>\n",
       "      <td>57.0</td>\n",
       "      <td>1.0</td>\n",
       "      <td>0.00</td>\n",
       "      <td>2.0</td>\n",
       "      <td>1.0</td>\n",
       "      <td>0.0</td>\n",
       "      <td>89248.99</td>\n",
       "      <td>0</td>\n",
       "    </tr>\n",
       "    <tr>\n",
       "      <th>4286</th>\n",
       "      <td>4287</td>\n",
       "      <td>15694404</td>\n",
       "      <td>Eberegbulam</td>\n",
       "      <td>781.0</td>\n",
       "      <td>France</td>\n",
       "      <td>Female</td>\n",
       "      <td>42.0</td>\n",
       "      <td>3.0</td>\n",
       "      <td>156555.54</td>\n",
       "      <td>1.0</td>\n",
       "      <td>1.0</td>\n",
       "      <td>1.0</td>\n",
       "      <td>175674.01</td>\n",
       "      <td>0</td>\n",
       "    </tr>\n",
       "    <tr>\n",
       "      <th>4854</th>\n",
       "      <td>4855</td>\n",
       "      <td>15574071</td>\n",
       "      <td>Muravyova</td>\n",
       "      <td>706.0</td>\n",
       "      <td>Germany</td>\n",
       "      <td>Male</td>\n",
       "      <td>23.0</td>\n",
       "      <td>2.0</td>\n",
       "      <td>93301.97</td>\n",
       "      <td>2.0</td>\n",
       "      <td>0.0</td>\n",
       "      <td>1.0</td>\n",
       "      <td>127187.04</td>\n",
       "      <td>0</td>\n",
       "    </tr>\n",
       "    <tr>\n",
       "      <th>6882</th>\n",
       "      <td>6883</td>\n",
       "      <td>15609160</td>\n",
       "      <td>Marsden</td>\n",
       "      <td>586.0</td>\n",
       "      <td>France</td>\n",
       "      <td>Male</td>\n",
       "      <td>32.0</td>\n",
       "      <td>1.0</td>\n",
       "      <td>0.00</td>\n",
       "      <td>2.0</td>\n",
       "      <td>0.0</td>\n",
       "      <td>0.0</td>\n",
       "      <td>31635.99</td>\n",
       "      <td>0</td>\n",
       "    </tr>\n",
       "  </tbody>\n",
       "</table>\n",
       "</div>"
      ],
      "text/plain": [
       "      RowNumber  CustomerId      Surname  CreditScore Geography  Gender   Age  \\\n",
       "1612       1613    15649121        Pinto        665.0    France    Male  52.0   \n",
       "8161       8162    15615352  Ebelechukwu        588.0    France    Male  31.0   \n",
       "2976       2977    15667265     Cavenagh        729.0    France    Male  39.0   \n",
       "7300       7301    15788224    Sanderson        669.0   Germany    Male  45.0   \n",
       "7320       7321    15778142         Shih        850.0   Germany  Female  31.0   \n",
       "4120       4121    15610105         Shen        666.0   Germany  Female  21.0   \n",
       "2481       2482    15764105        Milne        475.0    France  Female  57.0   \n",
       "4286       4287    15694404  Eberegbulam        781.0    France  Female  42.0   \n",
       "4854       4855    15574071    Muravyova        706.0   Germany    Male  23.0   \n",
       "6882       6883    15609160      Marsden        586.0    France    Male  32.0   \n",
       "\n",
       "      Tenure    Balance  NumOfProducts  HasCrCard  IsActiveMember  \\\n",
       "1612     3.0       0.00            1.0        1.0             0.0   \n",
       "8161     4.0   99607.37            2.0        0.0             1.0   \n",
       "2976     4.0  121404.64            1.0        1.0             1.0   \n",
       "7300     1.0  123949.75            1.0        0.0             0.0   \n",
       "7320     1.0        NaN            2.0        1.0             1.0   \n",
       "4120     1.0  121827.43            2.0        1.0             1.0   \n",
       "2481     1.0       0.00            2.0        1.0             0.0   \n",
       "4286     3.0  156555.54            1.0        1.0             1.0   \n",
       "4854     2.0   93301.97            2.0        0.0             1.0   \n",
       "6882     1.0       0.00            2.0        0.0             0.0   \n",
       "\n",
       "      EstimatedSalary  Exited  \n",
       "1612        116137.01       1  \n",
       "8161         35877.03       0  \n",
       "2976        159618.17       0  \n",
       "7300        110881.56       0  \n",
       "7320          4466.21       0  \n",
       "4120         99818.31       0  \n",
       "2481         89248.99       0  \n",
       "4286        175674.01       0  \n",
       "4854        127187.04       0  \n",
       "6882         31635.99       0  "
      ]
     },
     "execution_count": 2164,
     "metadata": {},
     "output_type": "execute_result"
    }
   ],
   "source": [
    "# First look at the data\n",
    "\n",
    "df.sample(10)"
   ]
  },
  {
   "cell_type": "code",
   "execution_count": 2165,
   "metadata": {},
   "outputs": [
    {
     "data": {
      "text/plain": [
       "((10150, 14),\n",
       " Index(['RowNumber', 'CustomerId', 'Surname', 'CreditScore', 'Geography',\n",
       "        'Gender', 'Age', 'Tenure', 'Balance', 'NumOfProducts', 'HasCrCard',\n",
       "        'IsActiveMember', 'EstimatedSalary', 'Exited'],\n",
       "       dtype='object'))"
      ]
     },
     "execution_count": 2165,
     "metadata": {},
     "output_type": "execute_result"
    }
   ],
   "source": [
    "df.shape, df.columns"
   ]
  },
  {
   "cell_type": "markdown",
   "metadata": {},
   "source": [
    "The dataset has 10150 rows and 14 columns.<br>\n",
    "    Not all columns will be significant for the analysis.<br>\n",
    "    RowNumber is not of interest and can be eliminated.<br>\n",
    "    Some insights on the non-trivial columns:<br>\n",
    "        - CustomerId is a unique identifier and can be used to see if there are duplicated data in the dataset.<br>\n",
    "        - CreditScore is a number between 300–850 that depicts a consumer's creditworthiness.<br>\n",
    "        - Tenure means the length of time a customer has been with the bank<br>\n",
    "        - Balance is the amount of money held in a bank account at a given moment<br>\n",
    "        - Estimated salary is the estimated salary per year (probably in Euro based on the Geography column)<br>\n",
    "        - Exited says if the customer left the bank or not. This will probably be the outcome we will want from a model<br>"
   ]
  },
  {
   "cell_type": "code",
   "execution_count": 2166,
   "metadata": {},
   "outputs": [
    {
     "name": "stdout",
     "output_type": "stream",
     "text": [
      "<class 'pandas.core.frame.DataFrame'>\n",
      "Int64Index: 10150 entries, 0 to 8\n",
      "Data columns (total 14 columns):\n",
      " #   Column           Non-Null Count  Dtype  \n",
      "---  ------           --------------  -----  \n",
      " 0   RowNumber        10150 non-null  int64  \n",
      " 1   CustomerId       10150 non-null  int64  \n",
      " 2   Surname          10056 non-null  object \n",
      " 3   CreditScore      10132 non-null  float64\n",
      " 4   Geography        9954 non-null   object \n",
      " 5   Gender           9867 non-null   object \n",
      " 6   Age              9879 non-null   float64\n",
      " 7   Tenure           10070 non-null  float64\n",
      " 8   Balance          9994 non-null   float64\n",
      " 9   NumOfProducts    9862 non-null   float64\n",
      " 10  HasCrCard        10067 non-null  float64\n",
      " 11  IsActiveMember   10063 non-null  float64\n",
      " 12  EstimatedSalary  10106 non-null  float64\n",
      " 13  Exited           10150 non-null  int64  \n",
      "dtypes: float64(8), int64(3), object(3)\n",
      "memory usage: 1.2+ MB\n"
     ]
    }
   ],
   "source": [
    "df.info() # general overview of the data and type of variables"
   ]
  },
  {
   "cell_type": "code",
   "execution_count": 2167,
   "metadata": {},
   "outputs": [
    {
     "data": {
      "text/plain": [
       "Index(['rownumber', 'customerid', 'surname', 'creditscore', 'geography',\n",
       "       'gender', 'age', 'tenure', 'balance', 'numofproducts', 'hascrcard',\n",
       "       'isactivemember', 'estimatedsalary', 'exited'],\n",
       "      dtype='object')"
      ]
     },
     "execution_count": 2167,
     "metadata": {},
     "output_type": "execute_result"
    }
   ],
   "source": [
    "# Changing column names to work more easily\n",
    "\n",
    "df.columns = df.columns.str.lower()\n",
    "df.columns"
   ]
  },
  {
   "cell_type": "code",
   "execution_count": 2168,
   "metadata": {},
   "outputs": [],
   "source": [
    "# Droping useless column rownumber\n",
    "\n",
    "df = df.drop('rownumber', axis = 1)"
   ]
  },
  {
   "cell_type": "markdown",
   "metadata": {},
   "source": [
    "##  a) Eliminating Duplicates"
   ]
  },
  {
   "cell_type": "code",
   "execution_count": 2169,
   "metadata": {},
   "outputs": [
    {
     "data": {
      "text/plain": [
       "104"
      ]
     },
     "execution_count": 2169,
     "metadata": {},
     "output_type": "execute_result"
    }
   ],
   "source": [
    "df.duplicated().sum()"
   ]
  },
  {
   "cell_type": "code",
   "execution_count": 2170,
   "metadata": {},
   "outputs": [
    {
     "data": {
      "text/html": [
       "<div>\n",
       "<style scoped>\n",
       "    .dataframe tbody tr th:only-of-type {\n",
       "        vertical-align: middle;\n",
       "    }\n",
       "\n",
       "    .dataframe tbody tr th {\n",
       "        vertical-align: top;\n",
       "    }\n",
       "\n",
       "    .dataframe thead th {\n",
       "        text-align: right;\n",
       "    }\n",
       "</style>\n",
       "<table border=\"1\" class=\"dataframe\">\n",
       "  <thead>\n",
       "    <tr style=\"text-align: right;\">\n",
       "      <th></th>\n",
       "      <th>customerid</th>\n",
       "      <th>surname</th>\n",
       "      <th>creditscore</th>\n",
       "      <th>geography</th>\n",
       "      <th>gender</th>\n",
       "      <th>age</th>\n",
       "      <th>tenure</th>\n",
       "      <th>balance</th>\n",
       "      <th>numofproducts</th>\n",
       "      <th>hascrcard</th>\n",
       "      <th>isactivemember</th>\n",
       "      <th>estimatedsalary</th>\n",
       "      <th>exited</th>\n",
       "    </tr>\n",
       "  </thead>\n",
       "  <tbody>\n",
       "    <tr>\n",
       "      <th>6481</th>\n",
       "      <td>15664752</td>\n",
       "      <td>Jack</td>\n",
       "      <td>606.0</td>\n",
       "      <td>Germany</td>\n",
       "      <td>Male</td>\n",
       "      <td>39.0</td>\n",
       "      <td>8.0</td>\n",
       "      <td>136000.45</td>\n",
       "      <td>2.0</td>\n",
       "      <td>1.0</td>\n",
       "      <td>0.0</td>\n",
       "      <td>31708.53</td>\n",
       "      <td>0</td>\n",
       "    </tr>\n",
       "    <tr>\n",
       "      <th>4317</th>\n",
       "      <td>15592194</td>\n",
       "      <td>Metcalf</td>\n",
       "      <td>492.0</td>\n",
       "      <td>France</td>\n",
       "      <td>Female</td>\n",
       "      <td>28.0</td>\n",
       "      <td>9.0</td>\n",
       "      <td>0.00</td>\n",
       "      <td>2.0</td>\n",
       "      <td>1.0</td>\n",
       "      <td>0.0</td>\n",
       "      <td>95957.09</td>\n",
       "      <td>0</td>\n",
       "    </tr>\n",
       "    <tr>\n",
       "      <th>6295</th>\n",
       "      <td>15621550</td>\n",
       "      <td>Hung</td>\n",
       "      <td>535.0</td>\n",
       "      <td>Spain</td>\n",
       "      <td>Female</td>\n",
       "      <td>50.0</td>\n",
       "      <td>1.0</td>\n",
       "      <td>140292.58</td>\n",
       "      <td>3.0</td>\n",
       "      <td>0.0</td>\n",
       "      <td>0.0</td>\n",
       "      <td>69531.22</td>\n",
       "      <td>1</td>\n",
       "    </tr>\n",
       "    <tr>\n",
       "      <th>9488</th>\n",
       "      <td>15659355</td>\n",
       "      <td>McKenzie</td>\n",
       "      <td>671.0</td>\n",
       "      <td>Spain</td>\n",
       "      <td>Male</td>\n",
       "      <td>32.0</td>\n",
       "      <td>6.0</td>\n",
       "      <td>123912.78</td>\n",
       "      <td>2.0</td>\n",
       "      <td>1.0</td>\n",
       "      <td>1.0</td>\n",
       "      <td>146636.44</td>\n",
       "      <td>0</td>\n",
       "    </tr>\n",
       "    <tr>\n",
       "      <th>6493</th>\n",
       "      <td>15723671</td>\n",
       "      <td>Lucciano</td>\n",
       "      <td>661.0</td>\n",
       "      <td>France</td>\n",
       "      <td>Male</td>\n",
       "      <td>35.0</td>\n",
       "      <td>9.0</td>\n",
       "      <td>100107.99</td>\n",
       "      <td>1.0</td>\n",
       "      <td>1.0</td>\n",
       "      <td>0.0</td>\n",
       "      <td>83949.68</td>\n",
       "      <td>0</td>\n",
       "    </tr>\n",
       "    <tr>\n",
       "      <th>...</th>\n",
       "      <td>...</td>\n",
       "      <td>...</td>\n",
       "      <td>...</td>\n",
       "      <td>...</td>\n",
       "      <td>...</td>\n",
       "      <td>...</td>\n",
       "      <td>...</td>\n",
       "      <td>...</td>\n",
       "      <td>...</td>\n",
       "      <td>...</td>\n",
       "      <td>...</td>\n",
       "      <td>...</td>\n",
       "      <td>...</td>\n",
       "    </tr>\n",
       "    <tr>\n",
       "      <th>6523</th>\n",
       "      <td>15806249</td>\n",
       "      <td>Kerr</td>\n",
       "      <td>671.0</td>\n",
       "      <td>Spain</td>\n",
       "      <td>Female</td>\n",
       "      <td>31.0</td>\n",
       "      <td>4.0</td>\n",
       "      <td>0.00</td>\n",
       "      <td>2.0</td>\n",
       "      <td>0.0</td>\n",
       "      <td>1.0</td>\n",
       "      <td>79270.02</td>\n",
       "      <td>0</td>\n",
       "    </tr>\n",
       "    <tr>\n",
       "      <th>3612</th>\n",
       "      <td>15792151</td>\n",
       "      <td>Hamilton</td>\n",
       "      <td>635.0</td>\n",
       "      <td>Spain</td>\n",
       "      <td>Female</td>\n",
       "      <td>37.0</td>\n",
       "      <td>3.0</td>\n",
       "      <td>0.00</td>\n",
       "      <td>2.0</td>\n",
       "      <td>1.0</td>\n",
       "      <td>0.0</td>\n",
       "      <td>91086.73</td>\n",
       "      <td>0</td>\n",
       "    </tr>\n",
       "    <tr>\n",
       "      <th>4437</th>\n",
       "      <td>15779522</td>\n",
       "      <td>Efimov</td>\n",
       "      <td>736.0</td>\n",
       "      <td>France</td>\n",
       "      <td>Female</td>\n",
       "      <td>24.0</td>\n",
       "      <td>0.0</td>\n",
       "      <td>0.00</td>\n",
       "      <td>2.0</td>\n",
       "      <td>1.0</td>\n",
       "      <td>0.0</td>\n",
       "      <td>109355.73</td>\n",
       "      <td>1</td>\n",
       "    </tr>\n",
       "    <tr>\n",
       "      <th>6549</th>\n",
       "      <td>15792029</td>\n",
       "      <td>Lee</td>\n",
       "      <td>620.0</td>\n",
       "      <td>France</td>\n",
       "      <td>Male</td>\n",
       "      <td>32.0</td>\n",
       "      <td>6.0</td>\n",
       "      <td>0.00</td>\n",
       "      <td>2.0</td>\n",
       "      <td>1.0</td>\n",
       "      <td>0.0</td>\n",
       "      <td>56139.09</td>\n",
       "      <td>0</td>\n",
       "    </tr>\n",
       "    <tr>\n",
       "      <th>8</th>\n",
       "      <td>15792365</td>\n",
       "      <td>He</td>\n",
       "      <td>501.0</td>\n",
       "      <td>France</td>\n",
       "      <td>Male</td>\n",
       "      <td>44.0</td>\n",
       "      <td>4.0</td>\n",
       "      <td>142051.07</td>\n",
       "      <td>2.0</td>\n",
       "      <td>0.0</td>\n",
       "      <td>1.0</td>\n",
       "      <td>74940.50</td>\n",
       "      <td>0</td>\n",
       "    </tr>\n",
       "  </tbody>\n",
       "</table>\n",
       "<p>104 rows × 13 columns</p>\n",
       "</div>"
      ],
      "text/plain": [
       "      customerid   surname  creditscore geography  gender   age  tenure  \\\n",
       "6481    15664752      Jack        606.0   Germany    Male  39.0     8.0   \n",
       "4317    15592194   Metcalf        492.0    France  Female  28.0     9.0   \n",
       "6295    15621550      Hung        535.0     Spain  Female  50.0     1.0   \n",
       "9488    15659355  McKenzie        671.0     Spain    Male  32.0     6.0   \n",
       "6493    15723671  Lucciano        661.0    France    Male  35.0     9.0   \n",
       "...          ...       ...          ...       ...     ...   ...     ...   \n",
       "6523    15806249      Kerr        671.0     Spain  Female  31.0     4.0   \n",
       "3612    15792151  Hamilton        635.0     Spain  Female  37.0     3.0   \n",
       "4437    15779522    Efimov        736.0    France  Female  24.0     0.0   \n",
       "6549    15792029       Lee        620.0    France    Male  32.0     6.0   \n",
       "8       15792365        He        501.0    France    Male  44.0     4.0   \n",
       "\n",
       "        balance  numofproducts  hascrcard  isactivemember  estimatedsalary  \\\n",
       "6481  136000.45            2.0        1.0             0.0         31708.53   \n",
       "4317       0.00            2.0        1.0             0.0         95957.09   \n",
       "6295  140292.58            3.0        0.0             0.0         69531.22   \n",
       "9488  123912.78            2.0        1.0             1.0        146636.44   \n",
       "6493  100107.99            1.0        1.0             0.0         83949.68   \n",
       "...         ...            ...        ...             ...              ...   \n",
       "6523       0.00            2.0        0.0             1.0         79270.02   \n",
       "3612       0.00            2.0        1.0             0.0         91086.73   \n",
       "4437       0.00            2.0        1.0             0.0        109355.73   \n",
       "6549       0.00            2.0        1.0             0.0         56139.09   \n",
       "8     142051.07            2.0        0.0             1.0         74940.50   \n",
       "\n",
       "      exited  \n",
       "6481       0  \n",
       "4317       0  \n",
       "6295       1  \n",
       "9488       0  \n",
       "6493       0  \n",
       "...      ...  \n",
       "6523       0  \n",
       "3612       0  \n",
       "4437       1  \n",
       "6549       0  \n",
       "8          0  \n",
       "\n",
       "[104 rows x 13 columns]"
      ]
     },
     "execution_count": 2170,
     "metadata": {},
     "output_type": "execute_result"
    }
   ],
   "source": [
    "df[df.duplicated(keep='first')]"
   ]
  },
  {
   "cell_type": "code",
   "execution_count": 2171,
   "metadata": {},
   "outputs": [],
   "source": [
    "df.drop_duplicates(subset= [\"customerid\"], inplace=True)"
   ]
  },
  {
   "cell_type": "code",
   "execution_count": 2172,
   "metadata": {},
   "outputs": [
    {
     "name": "stdout",
     "output_type": "stream",
     "text": [
      "False\n",
      "(10000, 13)\n"
     ]
    }
   ],
   "source": [
    "print(df.duplicated().any())\n",
    "print(df.shape)"
   ]
  },
  {
   "cell_type": "markdown",
   "metadata": {},
   "source": [
    "## b) Checking for NaN values"
   ]
  },
  {
   "cell_type": "code",
   "execution_count": 2173,
   "metadata": {},
   "outputs": [
    {
     "data": {
      "text/plain": [
       "customerid         False\n",
       "surname             True\n",
       "creditscore         True\n",
       "geography           True\n",
       "gender              True\n",
       "age                 True\n",
       "tenure              True\n",
       "balance             True\n",
       "numofproducts       True\n",
       "hascrcard           True\n",
       "isactivemember      True\n",
       "estimatedsalary     True\n",
       "exited             False\n",
       "dtype: bool"
      ]
     },
     "execution_count": 2173,
     "metadata": {},
     "output_type": "execute_result"
    }
   ],
   "source": [
    "df.isnull().any()"
   ]
  },
  {
   "cell_type": "markdown",
   "metadata": {},
   "source": [
    "There are missing values in every columns except CustomerID and Exited and we will analyse all of them separately"
   ]
  },
  {
   "cell_type": "code",
   "execution_count": 2174,
   "metadata": {},
   "outputs": [
    {
     "data": {
      "text/plain": [
       "customerid           0\n",
       "surname             92\n",
       "creditscore         18\n",
       "geography          195\n",
       "gender             278\n",
       "age                261\n",
       "tenure              78\n",
       "balance            150\n",
       "numofproducts      286\n",
       "hascrcard           80\n",
       "isactivemember      87\n",
       "estimatedsalary     43\n",
       "exited               0\n",
       "dtype: int64"
      ]
     },
     "execution_count": 2174,
     "metadata": {},
     "output_type": "execute_result"
    }
   ],
   "source": [
    "df.isna().sum() # counting NaN for each column"
   ]
  },
  {
   "cell_type": "code",
   "execution_count": 2175,
   "metadata": {},
   "outputs": [
    {
     "name": "stdout",
     "output_type": "stream",
     "text": [
      "Percentage of Nan for each column\n",
      " customerid         0.0\n",
      "surname            0.9\n",
      "creditscore        0.2\n",
      "geography          2.0\n",
      "gender             2.8\n",
      "age                2.6\n",
      "tenure             0.8\n",
      "balance            1.5\n",
      "numofproducts      2.9\n",
      "hascrcard          0.8\n",
      "isactivemember     0.9\n",
      "estimatedsalary    0.4\n",
      "exited             0.0\n",
      "dtype: float64\n"
     ]
    }
   ],
   "source": [
    "# evaluating the % of NaN for each column\n",
    "print('Percentage of Nan for each column'\"\\n\",(df.isna().sum()/df.customerid.count()*100).round(1))"
   ]
  },
  {
   "cell_type": "markdown",
   "metadata": {},
   "source": [
    "All features has a small % of NaN"
   ]
  },
  {
   "cell_type": "code",
   "execution_count": 2176,
   "metadata": {},
   "outputs": [
    {
     "data": {
      "text/html": [
       "<div>\n",
       "<style scoped>\n",
       "    .dataframe tbody tr th:only-of-type {\n",
       "        vertical-align: middle;\n",
       "    }\n",
       "\n",
       "    .dataframe tbody tr th {\n",
       "        vertical-align: top;\n",
       "    }\n",
       "\n",
       "    .dataframe thead th {\n",
       "        text-align: right;\n",
       "    }\n",
       "</style>\n",
       "<table border=\"1\" class=\"dataframe\">\n",
       "  <thead>\n",
       "    <tr style=\"text-align: right;\">\n",
       "      <th></th>\n",
       "      <th>customerid</th>\n",
       "      <th>creditscore</th>\n",
       "      <th>age</th>\n",
       "      <th>tenure</th>\n",
       "      <th>balance</th>\n",
       "      <th>numofproducts</th>\n",
       "      <th>hascrcard</th>\n",
       "      <th>isactivemember</th>\n",
       "      <th>estimatedsalary</th>\n",
       "      <th>exited</th>\n",
       "    </tr>\n",
       "  </thead>\n",
       "  <tbody>\n",
       "    <tr>\n",
       "      <th>count</th>\n",
       "      <td>10000.0</td>\n",
       "      <td>9982.0</td>\n",
       "      <td>9739.0</td>\n",
       "      <td>9922.0</td>\n",
       "      <td>9850.0</td>\n",
       "      <td>9714.0</td>\n",
       "      <td>9920.0</td>\n",
       "      <td>9913.0</td>\n",
       "      <td>9957.0</td>\n",
       "      <td>10000.0</td>\n",
       "    </tr>\n",
       "    <tr>\n",
       "      <th>mean</th>\n",
       "      <td>15690941.0</td>\n",
       "      <td>651.0</td>\n",
       "      <td>39.0</td>\n",
       "      <td>5.0</td>\n",
       "      <td>76723.0</td>\n",
       "      <td>2.0</td>\n",
       "      <td>1.0</td>\n",
       "      <td>1.0</td>\n",
       "      <td>100117.0</td>\n",
       "      <td>0.0</td>\n",
       "    </tr>\n",
       "    <tr>\n",
       "      <th>std</th>\n",
       "      <td>71936.0</td>\n",
       "      <td>100.0</td>\n",
       "      <td>11.0</td>\n",
       "      <td>3.0</td>\n",
       "      <td>63728.0</td>\n",
       "      <td>1.0</td>\n",
       "      <td>0.0</td>\n",
       "      <td>0.0</td>\n",
       "      <td>57497.0</td>\n",
       "      <td>0.0</td>\n",
       "    </tr>\n",
       "    <tr>\n",
       "      <th>min</th>\n",
       "      <td>15565701.0</td>\n",
       "      <td>350.0</td>\n",
       "      <td>-49.0</td>\n",
       "      <td>-5.0</td>\n",
       "      <td>0.0</td>\n",
       "      <td>-2.0</td>\n",
       "      <td>0.0</td>\n",
       "      <td>0.0</td>\n",
       "      <td>12.0</td>\n",
       "      <td>0.0</td>\n",
       "    </tr>\n",
       "    <tr>\n",
       "      <th>25%</th>\n",
       "      <td>15628528.0</td>\n",
       "      <td>584.0</td>\n",
       "      <td>32.0</td>\n",
       "      <td>3.0</td>\n",
       "      <td>0.0</td>\n",
       "      <td>1.0</td>\n",
       "      <td>0.0</td>\n",
       "      <td>0.0</td>\n",
       "      <td>51100.0</td>\n",
       "      <td>0.0</td>\n",
       "    </tr>\n",
       "    <tr>\n",
       "      <th>50%</th>\n",
       "      <td>15690738.0</td>\n",
       "      <td>652.0</td>\n",
       "      <td>37.0</td>\n",
       "      <td>5.0</td>\n",
       "      <td>97246.0</td>\n",
       "      <td>1.0</td>\n",
       "      <td>1.0</td>\n",
       "      <td>1.0</td>\n",
       "      <td>100240.0</td>\n",
       "      <td>0.0</td>\n",
       "    </tr>\n",
       "    <tr>\n",
       "      <th>75%</th>\n",
       "      <td>15753234.0</td>\n",
       "      <td>718.0</td>\n",
       "      <td>44.0</td>\n",
       "      <td>7.0</td>\n",
       "      <td>127641.0</td>\n",
       "      <td>2.0</td>\n",
       "      <td>1.0</td>\n",
       "      <td>1.0</td>\n",
       "      <td>149400.0</td>\n",
       "      <td>0.0</td>\n",
       "    </tr>\n",
       "    <tr>\n",
       "      <th>max</th>\n",
       "      <td>15815690.0</td>\n",
       "      <td>2924.0</td>\n",
       "      <td>92.0</td>\n",
       "      <td>32.0</td>\n",
       "      <td>1036826.0</td>\n",
       "      <td>11.0</td>\n",
       "      <td>1.0</td>\n",
       "      <td>1.0</td>\n",
       "      <td>199992.0</td>\n",
       "      <td>1.0</td>\n",
       "    </tr>\n",
       "  </tbody>\n",
       "</table>\n",
       "</div>"
      ],
      "text/plain": [
       "       customerid  creditscore     age  tenure    balance  numofproducts  \\\n",
       "count     10000.0       9982.0  9739.0  9922.0     9850.0         9714.0   \n",
       "mean   15690941.0        651.0    39.0     5.0    76723.0            2.0   \n",
       "std       71936.0        100.0    11.0     3.0    63728.0            1.0   \n",
       "min    15565701.0        350.0   -49.0    -5.0        0.0           -2.0   \n",
       "25%    15628528.0        584.0    32.0     3.0        0.0            1.0   \n",
       "50%    15690738.0        652.0    37.0     5.0    97246.0            1.0   \n",
       "75%    15753234.0        718.0    44.0     7.0   127641.0            2.0   \n",
       "max    15815690.0       2924.0    92.0    32.0  1036826.0           11.0   \n",
       "\n",
       "       hascrcard  isactivemember  estimatedsalary   exited  \n",
       "count     9920.0          9913.0           9957.0  10000.0  \n",
       "mean         1.0             1.0         100117.0      0.0  \n",
       "std          0.0             0.0          57497.0      0.0  \n",
       "min          0.0             0.0             12.0      0.0  \n",
       "25%          0.0             0.0          51100.0      0.0  \n",
       "50%          1.0             1.0         100240.0      0.0  \n",
       "75%          1.0             1.0         149400.0      0.0  \n",
       "max          1.0             1.0         199992.0      1.0  "
      ]
     },
     "execution_count": 2176,
     "metadata": {},
     "output_type": "execute_result"
    }
   ],
   "source": [
    "# general view of the variables statistical information\n",
    "\n",
    "df.describe().round()"
   ]
  },
  {
   "cell_type": "markdown",
   "metadata": {},
   "source": [
    "There are some values in some columns that makes no sense (i.e. Negative age, tenure,...) but we will analyse each feature separately afterwards in the Uni-variate Analysis"
   ]
  },
  {
   "cell_type": "code",
   "execution_count": 2177,
   "metadata": {},
   "outputs": [],
   "source": [
    "#pd.set_option('display.max_rows', None)"
   ]
  },
  {
   "cell_type": "code",
   "execution_count": 2178,
   "metadata": {},
   "outputs": [],
   "source": [
    "#pd.reset_option(\"display.max_rows\")"
   ]
  },
  {
   "cell_type": "markdown",
   "metadata": {},
   "source": [
    "## Missing Values and Outliers Exploration by column\n",
    "\n",
    "- `surname`\n",
    "- `creditscore`\n",
    "- `geography`\n",
    "- `gender`\n",
    "- `age`\n",
    "- `tenure`\n",
    "- `balance`\n",
    "- `numofproducts`\n",
    "- `hascrcard`\n",
    "- `isactivemember`\n",
    "- `estimatedsalary    `"
   ]
  },
  {
   "cell_type": "markdown",
   "metadata": {},
   "source": [
    "## SURNAME COLUMN"
   ]
  },
  {
   "cell_type": "code",
   "execution_count": 2179,
   "metadata": {},
   "outputs": [
    {
     "name": "stdout",
     "output_type": "stream",
     "text": [
      "<class 'str'>\n",
      "True\n",
      "92\n"
     ]
    }
   ],
   "source": [
    "# Cheking for type and missing values\n",
    "\n",
    "print(type(df.surname[0]))\n",
    "print(df.surname.isna().any())\n",
    "print(df.surname.isna().sum())"
   ]
  },
  {
   "cell_type": "code",
   "execution_count": 2180,
   "metadata": {},
   "outputs": [
    {
     "name": "stdout",
     "output_type": "stream",
     "text": [
      "False\n"
     ]
    }
   ],
   "source": [
    "# Creating a new category for missing values: surname will not be important feature in a model (feature will be disregarded), so we can fill in information with 'No information avilable'\n",
    "\n",
    "df.surname.fillna('No information avilable', inplace= True)\n",
    "print(df.surname.isna().any())\n",
    "\n",
    "assert df.surname.isna().any() == False\n",
    "assert df.surname.count() == len(df) # assert we fixed all NaN rows"
   ]
  },
  {
   "cell_type": "code",
   "execution_count": 2181,
   "metadata": {},
   "outputs": [
    {
     "data": {
      "text/html": [
       "<div>\n",
       "<style scoped>\n",
       "    .dataframe tbody tr th:only-of-type {\n",
       "        vertical-align: middle;\n",
       "    }\n",
       "\n",
       "    .dataframe tbody tr th {\n",
       "        vertical-align: top;\n",
       "    }\n",
       "\n",
       "    .dataframe thead th {\n",
       "        text-align: right;\n",
       "    }\n",
       "</style>\n",
       "<table border=\"1\" class=\"dataframe\">\n",
       "  <thead>\n",
       "    <tr style=\"text-align: right;\">\n",
       "      <th></th>\n",
       "      <th>customerid</th>\n",
       "      <th>surname</th>\n",
       "      <th>creditscore</th>\n",
       "      <th>geography</th>\n",
       "      <th>gender</th>\n",
       "      <th>age</th>\n",
       "      <th>tenure</th>\n",
       "      <th>balance</th>\n",
       "      <th>numofproducts</th>\n",
       "      <th>hascrcard</th>\n",
       "      <th>isactivemember</th>\n",
       "      <th>estimatedsalary</th>\n",
       "      <th>exited</th>\n",
       "    </tr>\n",
       "  </thead>\n",
       "  <tbody>\n",
       "  </tbody>\n",
       "</table>\n",
       "</div>"
      ],
      "text/plain": [
       "Empty DataFrame\n",
       "Columns: [customerid, surname, creditscore, geography, gender, age, tenure, balance, numofproducts, hascrcard, isactivemember, estimatedsalary, exited]\n",
       "Index: []"
      ]
     },
     "execution_count": 2181,
     "metadata": {},
     "output_type": "execute_result"
    }
   ],
   "source": [
    "#checking for other types of Na's\n",
    "\n",
    "df[df.surname.isin([\"Null\", \"null\", \"nan\"])]"
   ]
  },
  {
   "cell_type": "code",
   "execution_count": 2182,
   "metadata": {},
   "outputs": [
    {
     "name": "stdout",
     "output_type": "stream",
     "text": [
      "10000\n"
     ]
    },
    {
     "data": {
      "text/plain": [
       "No information avilable    92\n",
       "Smith                      32\n",
       "Martin                     29\n",
       "Scott                      29\n",
       "Walker                     28\n",
       "                           ..\n",
       "Howarde                     1\n",
       "Creswell                    1\n",
       "Galkina                     1\n",
       "Redding                     1\n",
       "Deleon                      1\n",
       "Name: surname, Length: 2926, dtype: int64"
      ]
     },
     "execution_count": 2182,
     "metadata": {},
     "output_type": "execute_result"
    }
   ],
   "source": [
    "# Frequency Table\n",
    "print(df.surname.count())\n",
    "df.surname.value_counts()"
   ]
  },
  {
   "cell_type": "markdown",
   "metadata": {},
   "source": [
    "## CREDIT SCORE"
   ]
  },
  {
   "cell_type": "code",
   "execution_count": 2183,
   "metadata": {},
   "outputs": [
    {
     "name": "stdout",
     "output_type": "stream",
     "text": [
      "<class 'numpy.float64'>\n",
      "True\n",
      "18\n"
     ]
    }
   ],
   "source": [
    "# Checking for Type and Missing values\n",
    "\n",
    "print(type(df.creditscore[0])) \n",
    "print(df.creditscore.isna().any())\n",
    "print(df.creditscore.isna().sum())"
   ]
  },
  {
   "cell_type": "code",
   "execution_count": 2184,
   "metadata": {},
   "outputs": [
    {
     "name": "stdout",
     "output_type": "stream",
     "text": [
      "count    9982.000000\n",
      "mean      650.902076\n",
      "std       100.409554\n",
      "min       350.000000\n",
      "25%       584.000000\n",
      "50%       652.000000\n",
      "75%       718.000000\n",
      "max      2924.008649\n",
      "Name: creditscore, dtype: float64\n"
     ]
    }
   ],
   "source": [
    "# Column description\n",
    "\n",
    "print(df.creditscore.describe()) # i removed the median calculation/printing for all features since the 50 percentile is the median\n"
   ]
  },
  {
   "cell_type": "code",
   "execution_count": 2185,
   "metadata": {},
   "outputs": [
    {
     "data": {
      "text/plain": [
       "<AxesSubplot:>"
      ]
     },
     "execution_count": 2185,
     "metadata": {},
     "output_type": "execute_result"
    },
    {
     "data": {
      "image/png": "[encoded data removed]",
      "text/plain": [
       "<Figure size 432x288 with 1 Axes>"
      ]
     },
     "metadata": {
      "needs_background": "light"
     },
     "output_type": "display_data"
    }
   ],
   "source": [
    "#identifiying the outliers\n",
    "\n",
    "df.creditscore.plot( kind = 'box')"
   ]
  },
  {
   "cell_type": "code",
   "execution_count": 2186,
   "metadata": {},
   "outputs": [
    {
     "data": {
      "text/plain": [
       "count    9749.000000\n",
       "mean      645.796697\n",
       "std        92.706084\n",
       "min       350.000000\n",
       "25%       582.000000\n",
       "50%       649.000000\n",
       "75%       712.000000\n",
       "max       849.000000\n",
       "Name: creditscore, dtype: float64"
      ]
     },
     "execution_count": 2186,
     "metadata": {},
     "output_type": "execute_result"
    }
   ],
   "source": [
    "# CreditScore is a number between 300–850:\n",
    "# values bigger than 850 are outliers to be replaced\n",
    "# saving a version of the Column without the outliers\n",
    "\n",
    "CS_cleaned = df[df.creditscore < 850][\"creditscore\"].copy()\n",
    "CS_cleaned.describe()"
   ]
  },
  {
   "cell_type": "code",
   "execution_count": 2187,
   "metadata": {},
   "outputs": [
    {
     "data": {
      "text/plain": [
       "<AxesSubplot:>"
      ]
     },
     "execution_count": 2187,
     "metadata": {},
     "output_type": "execute_result"
    },
    {
     "data": {
      "image/png": "[encoded data removed]",
      "text/plain": [
       "<Figure size 432x288 with 1 Axes>"
      ]
     },
     "metadata": {
      "needs_background": "light"
     },
     "output_type": "display_data"
    }
   ],
   "source": [
    "# Box plot without the outliers\n",
    "\n",
    "CS_cleaned.plot(kind = 'box')"
   ]
  },
  {
   "cell_type": "code",
   "execution_count": 2188,
   "metadata": {},
   "outputs": [
    {
     "data": {
      "text/plain": [
       "649.0"
      ]
     },
     "execution_count": 2188,
     "metadata": {},
     "output_type": "execute_result"
    }
   ],
   "source": [
    "# Replacing missing values and outliers with Median\n",
    "# calculating median without outliers\n",
    "\n",
    "CS_median = CS_cleaned.median()\n",
    "CS_median"
   ]
  },
  {
   "cell_type": "code",
   "execution_count": 2189,
   "metadata": {},
   "outputs": [],
   "source": [
    "df.creditscore.fillna(CS_median, inplace= True)\n",
    "df.loc[df.creditscore > 850, \"creditscore\"] = CS_median"
   ]
  },
  {
   "cell_type": "code",
   "execution_count": 2190,
   "metadata": {},
   "outputs": [
    {
     "data": {
      "text/plain": [
       "False"
      ]
     },
     "execution_count": 2190,
     "metadata": {},
     "output_type": "execute_result"
    }
   ],
   "source": [
    "df.creditscore.isna().any()"
   ]
  },
  {
   "cell_type": "code",
   "execution_count": 2191,
   "metadata": {},
   "outputs": [],
   "source": [
    "assert df.creditscore.count() == len(df) # assert we fixed all NaN rows\n",
    "assert max(df.creditscore) == 850"
   ]
  },
  {
   "cell_type": "markdown",
   "metadata": {},
   "source": [
    "## Geography Column"
   ]
  },
  {
   "cell_type": "code",
   "execution_count": 2192,
   "metadata": {},
   "outputs": [
    {
     "data": {
      "text/plain": [
       "(str, 195, 1.95)"
      ]
     },
     "execution_count": 2192,
     "metadata": {},
     "output_type": "execute_result"
    }
   ],
   "source": [
    "# Checking for Type and missing values and % of missing values\n",
    "type(df.geography[0]), df.geography.isna().sum(), df.geography.isna().mean()*100"
   ]
  },
  {
   "cell_type": "code",
   "execution_count": 2193,
   "metadata": {},
   "outputs": [
    {
     "data": {
      "text/plain": [
       "(France     4923\n",
       " Germany    2451\n",
       " Spain      2431\n",
       " NaN         195\n",
       " Name: geography, dtype: int64,\n",
       " France     49.23\n",
       " Germany    24.51\n",
       " Spain      24.31\n",
       " NaN         1.95\n",
       " Name: geography, dtype: float64)"
      ]
     },
     "execution_count": 2193,
     "metadata": {},
     "output_type": "execute_result"
    }
   ],
   "source": [
    "# Frequency Table, absolute values and %\n",
    "\n",
    "df.geography.value_counts(dropna =False), df.geography.value_counts(normalize = True, dropna = False)*100"
   ]
  },
  {
   "cell_type": "markdown",
   "metadata": {},
   "source": [
    "Around 2% of Geography column is NaN.\n",
    "Since it is a categorical variable we decided to fill the missing value with the Mode"
   ]
  },
  {
   "cell_type": "code",
   "execution_count": 2194,
   "metadata": {},
   "outputs": [],
   "source": [
    "# Using the mode to fill NaN\n",
    "\n",
    "df.geography.fillna('France', inplace= True)"
   ]
  },
  {
   "cell_type": "code",
   "execution_count": 2195,
   "metadata": {},
   "outputs": [
    {
     "data": {
      "text/plain": [
       "France     5118\n",
       "Germany    2451\n",
       "Spain      2431\n",
       "Name: geography, dtype: int64"
      ]
     },
     "execution_count": 2195,
     "metadata": {},
     "output_type": "execute_result"
    }
   ],
   "source": [
    "df.geography.value_counts(dropna =False)"
   ]
  },
  {
   "cell_type": "code",
   "execution_count": 2196,
   "metadata": {},
   "outputs": [
    {
     "data": {
      "text/plain": [
       "<AxesSubplot:>"
      ]
     },
     "execution_count": 2196,
     "metadata": {},
     "output_type": "execute_result"
    },
    {
     "data": {
      "image/png": "[encoded data removed]",
      "text/plain": [
       "<Figure size 432x288 with 1 Axes>"
      ]
     },
     "metadata": {
      "needs_background": "light"
     },
     "output_type": "display_data"
    }
   ],
   "source": [
    "df.geography.value_counts().plot(kind= 'bar')"
   ]
  },
  {
   "cell_type": "code",
   "execution_count": 2197,
   "metadata": {},
   "outputs": [],
   "source": [
    "assert df.geography.count() == len(df) #assert we fixed all NaN rows"
   ]
  },
  {
   "cell_type": "markdown",
   "metadata": {},
   "source": [
    "## Gender Column"
   ]
  },
  {
   "cell_type": "code",
   "execution_count": 2198,
   "metadata": {},
   "outputs": [
    {
     "data": {
      "text/plain": [
       "(str, 278, 2.78)"
      ]
     },
     "execution_count": 2198,
     "metadata": {},
     "output_type": "execute_result"
    }
   ],
   "source": [
    "# Checking for type and missing values and % of missing values\n",
    "\n",
    "type(df.gender[0]), df.gender.isna().sum(), df.gender.isna().mean()*100"
   ]
  },
  {
   "cell_type": "code",
   "execution_count": 2199,
   "metadata": {},
   "outputs": [
    {
     "data": {
      "text/plain": [
       "Male      54.556676\n",
       "Female    45.443324\n",
       "NaN        2.859494\n",
       "Name: gender, dtype: float64"
      ]
     },
     "execution_count": 2199,
     "metadata": {},
     "output_type": "execute_result"
    }
   ],
   "source": [
    "# Frequency Table in %\n",
    "\n",
    "df.gender.value_counts(dropna = False)/df.gender.count()*100\n"
   ]
  },
  {
   "cell_type": "code",
   "execution_count": 2200,
   "metadata": {},
   "outputs": [
    {
     "data": {
      "text/plain": [
       "Male         5304\n",
       "Female       4418\n",
       "No gender     278\n",
       "Name: gender, dtype: int64"
      ]
     },
     "execution_count": 2200,
     "metadata": {},
     "output_type": "execute_result"
    }
   ],
   "source": [
    "df.gender.fillna('No gender', inplace= True) # replace NaN values with 'No gender': easier to replace afterwards\n",
    "df.gender.value_counts(dropna = False)"
   ]
  },
  {
   "cell_type": "markdown",
   "metadata": {},
   "source": [
    "For gender we will assign NaN to Male or Female randomly with a uniform discribution since in a normal population male and female should be around 50%-50%"
   ]
  },
  {
   "cell_type": "code",
   "execution_count": 2201,
   "metadata": {},
   "outputs": [],
   "source": [
    "np.random.seed(1)\n",
    "rand_n = np.random.randint(0,2,len(df[df.gender == 'No gender']))\n",
    "gen_val = list()\n",
    "\n",
    "# creating a list of Male and Female based on random numbers to replace NaN\n",
    "for i in rand_n:\n",
    "    if i == 1:\n",
    "        gen_val.append('Male')\n",
    "    else:\n",
    "        gen_val.append('Female')"
   ]
  },
  {
   "cell_type": "code",
   "execution_count": 2202,
   "metadata": {},
   "outputs": [],
   "source": [
    "# replace NaN with the list of random genders\n",
    "df.loc[df.gender == 'No gender', \"gender\"] = gen_val"
   ]
  },
  {
   "cell_type": "code",
   "execution_count": 2203,
   "metadata": {},
   "outputs": [
    {
     "data": {
      "text/plain": [
       "(Male      5449\n",
       " Female    4551\n",
       " Name: gender, dtype: int64,)"
      ]
     },
     "execution_count": 2203,
     "metadata": {},
     "output_type": "execute_result"
    }
   ],
   "source": [
    "df.gender.value_counts(dropna = False), "
   ]
  },
  {
   "cell_type": "code",
   "execution_count": 2204,
   "metadata": {},
   "outputs": [
    {
     "data": {
      "text/plain": [
       "<AxesSubplot:>"
      ]
     },
     "execution_count": 2204,
     "metadata": {},
     "output_type": "execute_result"
    },
    {
     "data": {
      "image/png": "[encoded data removed]",
      "text/plain": [
       "<Figure size 432x288 with 1 Axes>"
      ]
     },
     "metadata": {
      "needs_background": "light"
     },
     "output_type": "display_data"
    }
   ],
   "source": [
    "df.gender.value_counts().plot(kind= 'bar')"
   ]
  },
  {
   "cell_type": "code",
   "execution_count": 2205,
   "metadata": {},
   "outputs": [],
   "source": [
    "assert df.gender.count() == len(df) # assert we fixed all NaN rows"
   ]
  },
  {
   "cell_type": "markdown",
   "metadata": {},
   "source": [
    "## Age Column"
   ]
  },
  {
   "cell_type": "code",
   "execution_count": 2206,
   "metadata": {},
   "outputs": [
    {
     "data": {
      "text/plain": [
       "(numpy.float64, 261, 2.6)"
      ]
     },
     "execution_count": 2206,
     "metadata": {},
     "output_type": "execute_result"
    }
   ],
   "source": [
    "# Checking for Type and missing values and % of missing values\n",
    "\n",
    "type(df.age[0]) , df.age.isna().sum(),  df.age.isna().mean().round(3)*100"
   ]
  },
  {
   "cell_type": "code",
   "execution_count": 2207,
   "metadata": {},
   "outputs": [
    {
     "name": "stdout",
     "output_type": "stream",
     "text": [
      "count    9739.000000\n",
      "mean       38.950816\n",
      "std        10.560797\n",
      "min       -49.000000\n",
      "25%        32.000000\n",
      "50%        37.000000\n",
      "75%        44.000000\n",
      "max        92.000000\n",
      "Name: age, dtype: float64\n"
     ]
    }
   ],
   "source": [
    "# Column Description\n",
    "\n",
    "print(df.age.describe())"
   ]
  },
  {
   "cell_type": "code",
   "execution_count": 2208,
   "metadata": {},
   "outputs": [],
   "source": [
    "# Finding outliers"
   ]
  },
  {
   "cell_type": "code",
   "execution_count": 2209,
   "metadata": {},
   "outputs": [
    {
     "data": {
      "text/plain": [
       "<AxesSubplot:>"
      ]
     },
     "execution_count": 2209,
     "metadata": {},
     "output_type": "execute_result"
    },
    {
     "data": {
      "image/png": "[encoded data removed]",
      "text/plain": [
       "<Figure size 432x288 with 1 Axes>"
      ]
     },
     "metadata": {
      "needs_background": "light"
     },
     "output_type": "display_data"
    }
   ],
   "source": [
    "df.age.plot(kind = 'box')"
   ]
  },
  {
   "cell_type": "code",
   "execution_count": 2210,
   "metadata": {},
   "outputs": [
    {
     "data": {
      "text/plain": [
       "37.0"
      ]
     },
     "execution_count": 2210,
     "metadata": {},
     "output_type": "execute_result"
    }
   ],
   "source": [
    "# Negative values are meaningless ouliers so they must be replaced, very old customers are outliers but possible (so we will not touch them)\n",
    "# Calculating median without the outliers\n",
    "\n",
    "median_age = df[df.age > 0][\"age\"].median()\n",
    "median_age"
   ]
  },
  {
   "cell_type": "code",
   "execution_count": 2211,
   "metadata": {},
   "outputs": [],
   "source": [
    "# Replacing outliers and missing values with median age\n",
    "\n",
    "df.age.fillna(median_age, inplace= True)\n",
    "df.loc[df.age < 0, 'age'] = median_age"
   ]
  },
  {
   "cell_type": "code",
   "execution_count": 2212,
   "metadata": {},
   "outputs": [],
   "source": [
    "# Asserting that the minimum age is 18 years\n",
    "\n",
    "#### glomio / I deleted this assert because children under 18 can have a bank account created for them by a parent or created by them with the supervision of an aduld\n",
    "#  --> see consistency check below when checking age-tenure"
   ]
  },
  {
   "cell_type": "code",
   "execution_count": 2213,
   "metadata": {},
   "outputs": [
    {
     "data": {
      "text/plain": [
       "count    10000.00000\n",
       "mean        38.91450\n",
       "std         10.37114\n",
       "min         18.00000\n",
       "25%         32.00000\n",
       "50%         37.00000\n",
       "75%         44.00000\n",
       "max         92.00000\n",
       "Name: age, dtype: float64"
      ]
     },
     "execution_count": 2213,
     "metadata": {},
     "output_type": "execute_result"
    }
   ],
   "source": [
    "df.age.describe()"
   ]
  },
  {
   "cell_type": "code",
   "execution_count": 2214,
   "metadata": {},
   "outputs": [
    {
     "data": {
      "text/plain": [
       "<AxesSubplot:ylabel='Frequency'>"
      ]
     },
     "execution_count": 2214,
     "metadata": {},
     "output_type": "execute_result"
    },
    {
     "data": {
      "image/png": "[encoded data removed]",
      "text/plain": [
       "<Figure size 432x288 with 1 Axes>"
      ]
     },
     "metadata": {
      "needs_background": "light"
     },
     "output_type": "display_data"
    }
   ],
   "source": [
    "# visual distribution of the dataset population based on age\n",
    "df.age.plot(kind= 'hist')"
   ]
  },
  {
   "cell_type": "code",
   "execution_count": 2215,
   "metadata": {},
   "outputs": [
    {
     "data": {
      "text/plain": [
       "numpy.int32"
      ]
     },
     "execution_count": 2215,
     "metadata": {},
     "output_type": "execute_result"
    }
   ],
   "source": [
    "# Changing the type from float to integer\n",
    "\n",
    "df['age']  = df.age.astype('int')\n",
    "type(df.age[0])"
   ]
  },
  {
   "cell_type": "code",
   "execution_count": 2216,
   "metadata": {},
   "outputs": [],
   "source": [
    "assert df.age.count() == len(df) # assert we fixed all NaN rows"
   ]
  },
  {
   "cell_type": "code",
   "execution_count": null,
   "metadata": {},
   "outputs": [],
   "source": [
    "np.random.seed(1)\n",
    "rand_n = np.random.randint(0,2,len(df[df.gender == 'No gender']))\n",
    "gen_val = list()\n",
    "\n",
    "# creating a list of Male and Female based on random numbers to replace NaN\n",
    "for i in rand_n:\n",
    "    if i == 1:\n",
    "        gen_val.append('Male')\n",
    "    else:\n",
    "        gen_val.append('Female')"
   ]
  },
  {
   "cell_type": "markdown",
   "metadata": {},
   "source": [
    "## Tenure Column"
   ]
  },
  {
   "cell_type": "code",
   "execution_count": 2217,
   "metadata": {},
   "outputs": [
    {
     "name": "stdout",
     "output_type": "stream",
     "text": [
      "<class 'numpy.float64'>\n"
     ]
    },
    {
     "data": {
      "text/plain": [
       "78"
      ]
     },
     "execution_count": 2217,
     "metadata": {},
     "output_type": "execute_result"
    }
   ],
   "source": [
    "# Checking for type and missing values\n",
    "\n",
    "print(type(df.tenure[0]))\n",
    "df.tenure.isna().sum()"
   ]
  },
  {
   "cell_type": "code",
   "execution_count": 2218,
   "metadata": {},
   "outputs": [
    {
     "name": "stdout",
     "output_type": "stream",
     "text": [
      "count    9922.000000\n",
      "mean        5.014316\n",
      "std         2.905638\n",
      "min        -5.000000\n",
      "25%         3.000000\n",
      "50%         5.000000\n",
      "75%         7.000000\n",
      "max        32.044103\n",
      "Name: tenure, dtype: float64\n"
     ]
    }
   ],
   "source": [
    "# Column description\n",
    "\n",
    "print(df.tenure.describe())"
   ]
  },
  {
   "cell_type": "code",
   "execution_count": 2219,
   "metadata": {},
   "outputs": [
    {
     "data": {
      "text/plain": [
       "<AxesSubplot:>"
      ]
     },
     "execution_count": 2219,
     "metadata": {},
     "output_type": "execute_result"
    },
    {
     "data": {
      "image/png": "[encoded data removed]",
      "text/plain": [
       "<Figure size 432x288 with 1 Axes>"
      ]
     },
     "metadata": {
      "needs_background": "light"
     },
     "output_type": "display_data"
    }
   ],
   "source": [
    "# Finding outliers \n",
    "\n",
    "df.tenure.plot(kind = 'box')"
   ]
  },
  {
   "cell_type": "code",
   "execution_count": 2220,
   "metadata": {},
   "outputs": [
    {
     "data": {
      "text/html": [
       "<div>\n",
       "<style scoped>\n",
       "    .dataframe tbody tr th:only-of-type {\n",
       "        vertical-align: middle;\n",
       "    }\n",
       "\n",
       "    .dataframe tbody tr th {\n",
       "        vertical-align: top;\n",
       "    }\n",
       "\n",
       "    .dataframe thead th {\n",
       "        text-align: right;\n",
       "    }\n",
       "</style>\n",
       "<table border=\"1\" class=\"dataframe\">\n",
       "  <thead>\n",
       "    <tr style=\"text-align: right;\">\n",
       "      <th></th>\n",
       "      <th>customerid</th>\n",
       "      <th>surname</th>\n",
       "      <th>creditscore</th>\n",
       "      <th>geography</th>\n",
       "      <th>gender</th>\n",
       "      <th>age</th>\n",
       "      <th>tenure</th>\n",
       "      <th>balance</th>\n",
       "      <th>numofproducts</th>\n",
       "      <th>hascrcard</th>\n",
       "      <th>isactivemember</th>\n",
       "      <th>estimatedsalary</th>\n",
       "      <th>exited</th>\n",
       "    </tr>\n",
       "  </thead>\n",
       "  <tbody>\n",
       "    <tr>\n",
       "      <th>5204</th>\n",
       "      <td>15704231</td>\n",
       "      <td>Barrett</td>\n",
       "      <td>430.0</td>\n",
       "      <td>France</td>\n",
       "      <td>Female</td>\n",
       "      <td>33</td>\n",
       "      <td>32.044103</td>\n",
       "      <td>0.0</td>\n",
       "      <td>1.0</td>\n",
       "      <td>1.0</td>\n",
       "      <td>1.0</td>\n",
       "      <td>69759.91</td>\n",
       "      <td>0</td>\n",
       "    </tr>\n",
       "  </tbody>\n",
       "</table>\n",
       "</div>"
      ],
      "text/plain": [
       "      customerid  surname  creditscore geography  gender  age     tenure  \\\n",
       "5204    15704231  Barrett        430.0    France  Female   33  32.044103   \n",
       "\n",
       "      balance  numofproducts  hascrcard  isactivemember  estimatedsalary  \\\n",
       "5204      0.0            1.0        1.0             1.0         69759.91   \n",
       "\n",
       "      exited  \n",
       "5204       0  "
      ]
     },
     "execution_count": 2220,
     "metadata": {},
     "output_type": "execute_result"
    }
   ],
   "source": [
    "# checking the outlier with very high tenure\n",
    "df[df.tenure > 30]\n",
    "\n",
    "# this tenure value seems to be an error since all tenure value are integers while this one has decimal.\n",
    "# we will correct it together with the other outliers replacing it with the median"
   ]
  },
  {
   "cell_type": "code",
   "execution_count": 2221,
   "metadata": {},
   "outputs": [],
   "source": [
    "# Outliers are negatives values and the one big not-integer value.\n",
    "# Calculating median without outliers, step 1: clean the tenure column and save it as a new df\n",
    "\n",
    "df_tenure_cleaned = df[df.tenure < 30][\"tenure\"].copy()\n",
    "df_tenure_cleaned = df_tenure_cleaned[df_tenure_cleaned > 0]"
   ]
  },
  {
   "cell_type": "code",
   "execution_count": 2222,
   "metadata": {},
   "outputs": [
    {
     "data": {
      "text/plain": [
       "5.0"
      ]
     },
     "execution_count": 2222,
     "metadata": {},
     "output_type": "execute_result"
    }
   ],
   "source": [
    "# step 2: calculate the median of the cleaned column\n",
    "\n",
    "median_tenure = df_tenure_cleaned.median()\n",
    "median_tenure"
   ]
  },
  {
   "cell_type": "code",
   "execution_count": 2223,
   "metadata": {},
   "outputs": [
    {
     "data": {
      "text/plain": [
       "count    10000.000000\n",
       "mean         5.012500\n",
       "std          2.879891\n",
       "min          0.000000\n",
       "25%          3.000000\n",
       "50%          5.000000\n",
       "75%          7.000000\n",
       "max         10.000000\n",
       "Name: tenure, dtype: float64"
      ]
     },
     "execution_count": 2223,
     "metadata": {},
     "output_type": "execute_result"
    }
   ],
   "source": [
    "# # Outliers are negatives values and the one big not-integer value.\n",
    "# Replacing NA's and outliers with median\n",
    "\n",
    "df.loc[df.tenure > 30, 'tenure'] = median_tenure\n",
    "df.tenure.fillna(median_tenure, inplace= True)\n",
    "df.loc[df.tenure < 0, 'tenure'] = median_tenure\n",
    "df.tenure.describe()"
   ]
  },
  {
   "cell_type": "code",
   "execution_count": 2224,
   "metadata": {},
   "outputs": [],
   "source": [
    "assert min(df.tenure) == 0 "
   ]
  },
  {
   "cell_type": "code",
   "execution_count": 2242,
   "metadata": {},
   "outputs": [],
   "source": [
    "# check the consistency between age and tenure:\n",
    "\n",
    "diff_age_tenure = (df.age-df.tenure)\n",
    "assert diff_age_tenure.all() > 0"
   ]
  },
  {
   "cell_type": "code",
   "execution_count": 2243,
   "metadata": {},
   "outputs": [
    {
     "data": {
      "text/plain": [
       "count    10000.000000\n",
       "mean         5.012500\n",
       "std          2.879891\n",
       "min          0.000000\n",
       "25%          3.000000\n",
       "50%          5.000000\n",
       "75%          7.000000\n",
       "max         10.000000\n",
       "Name: tenure, dtype: float64"
      ]
     },
     "execution_count": 2243,
     "metadata": {},
     "output_type": "execute_result"
    }
   ],
   "source": [
    "# final check on tenure distribution and summary\n",
    "\n",
    "df.tenure.describe()"
   ]
  },
  {
   "cell_type": "code",
   "execution_count": 2227,
   "metadata": {},
   "outputs": [
    {
     "data": {
      "text/plain": [
       "<AxesSubplot:>"
      ]
     },
     "execution_count": 2227,
     "metadata": {},
     "output_type": "execute_result"
    },
    {
     "data": {
      "image/png": "[encoded data removed]",
      "text/plain": [
       "<Figure size 432x288 with 1 Axes>"
      ]
     },
     "metadata": {
      "needs_background": "light"
     },
     "output_type": "display_data"
    }
   ],
   "source": [
    "df.tenure.plot( kind = \"box\")"
   ]
  },
  {
   "cell_type": "code",
   "execution_count": 2228,
   "metadata": {},
   "outputs": [
    {
     "data": {
      "text/plain": [
       "<AxesSubplot:ylabel='Frequency'>"
      ]
     },
     "execution_count": 2228,
     "metadata": {},
     "output_type": "execute_result"
    },
    {
     "data": {
      "image/png": "[encoded data removed]",
      "text/plain": [
       "<Figure size 432x288 with 1 Axes>"
      ]
     },
     "metadata": {
      "needs_background": "light"
     },
     "output_type": "display_data"
    }
   ],
   "source": [
    "# visual distribution of the dataset population based on tenure\n",
    "df.tenure.plot(kind= 'hist')"
   ]
  },
  {
   "cell_type": "code",
   "execution_count": 2244,
   "metadata": {},
   "outputs": [],
   "source": [
    "assert df.tenure.count() == len(df) # assert we fixed all NaN rows"
   ]
  },
  {
   "cell_type": "markdown",
   "metadata": {},
   "source": [
    "## Balance Column"
   ]
  },
  {
   "cell_type": "code",
   "execution_count": 2229,
   "metadata": {},
   "outputs": [
    {
     "data": {
      "text/plain": [
       "(numpy.float64, 150, 1.5)"
      ]
     },
     "execution_count": 2229,
     "metadata": {},
     "output_type": "execute_result"
    }
   ],
   "source": [
    "# Cheking for type and missing values and % of missing values\n",
    "\n",
    "type(df.balance[0]), df.balance.isna().sum(), df.balance.isna().mean()*100"
   ]
  },
  {
   "cell_type": "code",
   "execution_count": 2246,
   "metadata": {},
   "outputs": [
    {
     "name": "stdout",
     "output_type": "stream",
     "text": [
      "count       9850.00\n",
      "mean       76722.67\n",
      "std        63727.69\n",
      "min            0.00\n",
      "25%            0.00\n",
      "50%        97246.00\n",
      "75%       127641.42\n",
      "max      1036826.08\n",
      "Name: balance, dtype: float64\n"
     ]
    }
   ],
   "source": [
    "# Describe the column\n",
    "\n",
    "print(df.balance.describe().round(2))"
   ]
  },
  {
   "cell_type": "code",
   "execution_count": 2250,
   "metadata": {},
   "outputs": [
    {
     "data": {
      "text/plain": [
       "<AxesSubplot:>"
      ]
     },
     "execution_count": 2250,
     "metadata": {},
     "output_type": "execute_result"
    },
    {
     "data": {
      "image/png": "[encoded data removed]",
      "text/plain": [
       "<Figure size 432x288 with 1 Axes>"
      ]
     },
     "metadata": {
      "needs_background": "light"
     },
     "output_type": "display_data"
    }
   ],
   "source": [
    "# Finding Outliers \n",
    "\n",
    "df.balance.plot(kind = 'box')"
   ]
  },
  {
   "cell_type": "markdown",
   "metadata": {},
   "source": [
    "Values bigger than 800 000 are potential ouliers"
   ]
  },
  {
   "cell_type": "code",
   "execution_count": 2248,
   "metadata": {},
   "outputs": [
    {
     "data": {
      "text/html": [
       "<div>\n",
       "<style scoped>\n",
       "    .dataframe tbody tr th:only-of-type {\n",
       "        vertical-align: middle;\n",
       "    }\n",
       "\n",
       "    .dataframe tbody tr th {\n",
       "        vertical-align: top;\n",
       "    }\n",
       "\n",
       "    .dataframe thead th {\n",
       "        text-align: right;\n",
       "    }\n",
       "</style>\n",
       "<table border=\"1\" class=\"dataframe\">\n",
       "  <thead>\n",
       "    <tr style=\"text-align: right;\">\n",
       "      <th></th>\n",
       "      <th>customerid</th>\n",
       "      <th>surname</th>\n",
       "      <th>creditscore</th>\n",
       "      <th>geography</th>\n",
       "      <th>gender</th>\n",
       "      <th>age</th>\n",
       "      <th>tenure</th>\n",
       "      <th>balance</th>\n",
       "      <th>numofproducts</th>\n",
       "      <th>hascrcard</th>\n",
       "      <th>isactivemember</th>\n",
       "      <th>estimatedsalary</th>\n",
       "      <th>exited</th>\n",
       "    </tr>\n",
       "  </thead>\n",
       "  <tbody>\n",
       "    <tr>\n",
       "      <th>2135</th>\n",
       "      <td>15704284</td>\n",
       "      <td>Ekechukwu</td>\n",
       "      <td>736.0</td>\n",
       "      <td>Germany</td>\n",
       "      <td>Male</td>\n",
       "      <td>57</td>\n",
       "      <td>9.0</td>\n",
       "      <td>969780.20</td>\n",
       "      <td>1.0</td>\n",
       "      <td>1.0</td>\n",
       "      <td>0.0</td>\n",
       "      <td>28434.44</td>\n",
       "      <td>1</td>\n",
       "    </tr>\n",
       "    <tr>\n",
       "      <th>5464</th>\n",
       "      <td>15795540</td>\n",
       "      <td>Reye</td>\n",
       "      <td>556.0</td>\n",
       "      <td>France</td>\n",
       "      <td>Female</td>\n",
       "      <td>36</td>\n",
       "      <td>2.0</td>\n",
       "      <td>1036826.08</td>\n",
       "      <td>1.0</td>\n",
       "      <td>0.0</td>\n",
       "      <td>1.0</td>\n",
       "      <td>177670.57</td>\n",
       "      <td>0</td>\n",
       "    </tr>\n",
       "  </tbody>\n",
       "</table>\n",
       "</div>"
      ],
      "text/plain": [
       "      customerid    surname  creditscore geography  gender  age  tenure  \\\n",
       "2135    15704284  Ekechukwu        736.0   Germany    Male   57     9.0   \n",
       "5464    15795540       Reye        556.0    France  Female   36     2.0   \n",
       "\n",
       "         balance  numofproducts  hascrcard  isactivemember  estimatedsalary  \\\n",
       "2135   969780.20            1.0        1.0             0.0         28434.44   \n",
       "5464  1036826.08            1.0        0.0             1.0        177670.57   \n",
       "\n",
       "      exited  \n",
       "2135       1  \n",
       "5464       0  "
      ]
     },
     "execution_count": 2248,
     "metadata": {},
     "output_type": "execute_result"
    }
   ],
   "source": [
    "# Look up the other variables of the potential outliers\n",
    "\n",
    "df[df.balance > 0.8e6].round(2)"
   ]
  },
  {
   "cell_type": "markdown",
   "metadata": {},
   "source": [
    "Seems to have a low salary for such a huge balance"
   ]
  },
  {
   "cell_type": "markdown",
   "metadata": {},
   "source": [
    "## Number of products Column\n"
   ]
  },
  {
   "cell_type": "code",
   "execution_count": 2233,
   "metadata": {},
   "outputs": [
    {
     "data": {
      "text/plain": [
       "(numpy.float64, 286)"
      ]
     },
     "execution_count": 2233,
     "metadata": {},
     "output_type": "execute_result"
    }
   ],
   "source": [
    "# Cheking for type and outliers\n",
    "\n",
    "type(df.numofproducts[0]), df.numofproducts.isna().sum()"
   ]
  },
  {
   "cell_type": "code",
   "execution_count": 2234,
   "metadata": {},
   "outputs": [
    {
     "data": {
      "text/plain": [
       " 1.00000     4945\n",
       " 2.00000     4450\n",
       " NaN          286\n",
       " 3.00000      255\n",
       " 4.00000       58\n",
       "-2.00000        3\n",
       "-1.00000        2\n",
       " 11.17746       1\n",
       "Name: numofproducts, dtype: int64"
      ]
     },
     "execution_count": 2234,
     "metadata": {},
     "output_type": "execute_result"
    }
   ],
   "source": [
    "# Description\n",
    "\n",
    "df.numofproducts.value_counts(dropna =False)"
   ]
  },
  {
   "cell_type": "code",
   "execution_count": 2235,
   "metadata": {},
   "outputs": [
    {
     "ename": "AttributeError",
     "evalue": "'DataFrame' object has no attribute 'NumOfProducts'",
     "output_type": "error",
     "traceback": [
      "\u001b[1;31m---------------------------------------------------------------------------\u001b[0m",
      "\u001b[1;31mAttributeError\u001b[0m                            Traceback (most recent call last)",
      "\u001b[1;32m~\\AppData\\Local\\Temp/ipykernel_30932/177807605.py\u001b[0m in \u001b[0;36m<module>\u001b[1;34m\u001b[0m\n\u001b[0;32m      1\u001b[0m \u001b[1;31m# Finding outliers\u001b[0m\u001b[1;33m\u001b[0m\u001b[1;33m\u001b[0m\u001b[1;33m\u001b[0m\u001b[0m\n\u001b[0;32m      2\u001b[0m \u001b[1;33m\u001b[0m\u001b[0m\n\u001b[1;32m----> 3\u001b[1;33m \u001b[0mdf\u001b[0m\u001b[1;33m.\u001b[0m\u001b[0mNumOfProducts\u001b[0m\u001b[1;33m.\u001b[0m\u001b[0mplot\u001b[0m\u001b[1;33m(\u001b[0m\u001b[0mkind\u001b[0m \u001b[1;33m=\u001b[0m \u001b[1;34m'box'\u001b[0m\u001b[1;33m)\u001b[0m\u001b[1;33m\u001b[0m\u001b[1;33m\u001b[0m\u001b[0m\n\u001b[0m",
      "\u001b[1;32m~\\Anaconda3\\lib\\site-packages\\pandas\\core\\generic.py\u001b[0m in \u001b[0;36m__getattr__\u001b[1;34m(self, name)\u001b[0m\n\u001b[0;32m   5463\u001b[0m             \u001b[1;32mif\u001b[0m \u001b[0mself\u001b[0m\u001b[1;33m.\u001b[0m\u001b[0m_info_axis\u001b[0m\u001b[1;33m.\u001b[0m\u001b[0m_can_hold_identifiers_and_holds_name\u001b[0m\u001b[1;33m(\u001b[0m\u001b[0mname\u001b[0m\u001b[1;33m)\u001b[0m\u001b[1;33m:\u001b[0m\u001b[1;33m\u001b[0m\u001b[1;33m\u001b[0m\u001b[0m\n\u001b[0;32m   5464\u001b[0m                 \u001b[1;32mreturn\u001b[0m \u001b[0mself\u001b[0m\u001b[1;33m[\u001b[0m\u001b[0mname\u001b[0m\u001b[1;33m]\u001b[0m\u001b[1;33m\u001b[0m\u001b[1;33m\u001b[0m\u001b[0m\n\u001b[1;32m-> 5465\u001b[1;33m             \u001b[1;32mreturn\u001b[0m \u001b[0mobject\u001b[0m\u001b[1;33m.\u001b[0m\u001b[0m__getattribute__\u001b[0m\u001b[1;33m(\u001b[0m\u001b[0mself\u001b[0m\u001b[1;33m,\u001b[0m \u001b[0mname\u001b[0m\u001b[1;33m)\u001b[0m\u001b[1;33m\u001b[0m\u001b[1;33m\u001b[0m\u001b[0m\n\u001b[0m\u001b[0;32m   5466\u001b[0m \u001b[1;33m\u001b[0m\u001b[0m\n\u001b[0;32m   5467\u001b[0m     \u001b[1;32mdef\u001b[0m \u001b[0m__setattr__\u001b[0m\u001b[1;33m(\u001b[0m\u001b[0mself\u001b[0m\u001b[1;33m,\u001b[0m \u001b[0mname\u001b[0m\u001b[1;33m:\u001b[0m \u001b[0mstr\u001b[0m\u001b[1;33m,\u001b[0m \u001b[0mvalue\u001b[0m\u001b[1;33m)\u001b[0m \u001b[1;33m->\u001b[0m \u001b[1;32mNone\u001b[0m\u001b[1;33m:\u001b[0m\u001b[1;33m\u001b[0m\u001b[1;33m\u001b[0m\u001b[0m\n",
      "\u001b[1;31mAttributeError\u001b[0m: 'DataFrame' object has no attribute 'NumOfProducts'"
     ]
    }
   ],
   "source": [
    "# Finding outliers\n",
    "\n",
    "df.NumOfProducts.plot(kind = 'box')"
   ]
  },
  {
   "cell_type": "code",
   "execution_count": null,
   "metadata": {},
   "outputs": [],
   "source": [
    "df.NumOfProducts.plot(kind = 'hist')"
   ]
  },
  {
   "cell_type": "markdown",
   "metadata": {},
   "source": [
    "Negative value are ouliers and 11.1176 is an oulier, 11,17 is most certainly an outlier because the number is much becaure than any other point and it's a fractional number\n"
   ]
  },
  {
   "cell_type": "code",
   "execution_count": null,
   "metadata": {},
   "outputs": [],
   "source": [
    "# Looking at the ratios for each categories\n",
    "\n",
    "df.numofproducts.value_counts(dropna =False, normalize= True)"
   ]
  },
  {
   "cell_type": "markdown",
   "metadata": {},
   "source": [
    "Only +- 3% of the values are wrong so will not affect the distribution to use mode to replace these values"
   ]
  },
  {
   "cell_type": "code",
   "execution_count": null,
   "metadata": {},
   "outputs": [],
   "source": [
    "df.numofproducts.fillna(1, inplace=True)\n",
    "\n",
    "df.loc[((df.numofproducts <0) | (df.numofproducts >10)), \"numofproducts\"] =  1"
   ]
  },
  {
   "cell_type": "code",
   "execution_count": null,
   "metadata": {},
   "outputs": [],
   "source": [
    "df.numofproducts.value_counts(dropna= False)"
   ]
  },
  {
   "cell_type": "markdown",
   "metadata": {},
   "source": [
    "## Has Credit Card Column"
   ]
  },
  {
   "cell_type": "code",
   "execution_count": null,
   "metadata": {},
   "outputs": [],
   "source": [
    "# Checking for type and missing values\n",
    "\n",
    "type(df.hascrcard[0]), df.hascrcard.isna().sum(), df.hascrcard.isna().mean()"
   ]
  },
  {
   "cell_type": "code",
   "execution_count": null,
   "metadata": {},
   "outputs": [],
   "source": [
    "# Frequency table\n",
    "\n",
    "df.hascrcard.value_counts(dropna = False), df.hascrcard.value_counts(dropna = False, normalize= True)"
   ]
  },
  {
   "cell_type": "markdown",
   "metadata": {},
   "source": [
    "Only 0.8 % of missing value, we can drop then without affecting the the dataset"
   ]
  },
  {
   "cell_type": "code",
   "execution_count": null,
   "metadata": {},
   "outputs": [],
   "source": [
    "df.dropna(subset= [\"hascrcard\"], how =\"any\", inplace =True)"
   ]
  },
  {
   "cell_type": "code",
   "execution_count": null,
   "metadata": {},
   "outputs": [],
   "source": [
    "assert df.hascrcard.isna().any() == False"
   ]
  },
  {
   "cell_type": "code",
   "execution_count": null,
   "metadata": {},
   "outputs": [],
   "source": [
    "# Plotting frequencies\n",
    "\n",
    "df.hascrcard.value_counts().plot(kind = 'bar')"
   ]
  },
  {
   "cell_type": "markdown",
   "metadata": {},
   "source": [
    "the value 5 makes no sense as the variable is binary so will remplace them with the mode (1)"
   ]
  },
  {
   "cell_type": "code",
   "execution_count": null,
   "metadata": {},
   "outputs": [],
   "source": [
    "df.loc[df.hascrcard==5, \"hascard\"] = 1"
   ]
  },
  {
   "cell_type": "code",
   "execution_count": null,
   "metadata": {},
   "outputs": [],
   "source": [
    "df.hascrcard.value_counts(dropna =False)"
   ]
  },
  {
   "cell_type": "markdown",
   "metadata": {},
   "source": [
    "## IS Active Member Column"
   ]
  },
  {
   "cell_type": "code",
   "execution_count": null,
   "metadata": {},
   "outputs": [],
   "source": [
    "# Checking for type and missing values\n",
    "\n",
    "type(df.isactivemember[0]), df.isactivemember.isna().sum(), df.isactivemember.isna().mean()"
   ]
  },
  {
   "cell_type": "code",
   "execution_count": null,
   "metadata": {},
   "outputs": [],
   "source": [
    "# Frequency table\n",
    "\n",
    "df.isactivemember.value_counts(dropna = False)"
   ]
  },
  {
   "cell_type": "markdown",
   "metadata": {},
   "source": [
    "Same as last column, Only 0.8 % of missing value, we can drop then without affecting the the dataset"
   ]
  },
  {
   "cell_type": "code",
   "execution_count": null,
   "metadata": {},
   "outputs": [],
   "source": [
    "df.dropna(subset= [\"isactivemember\"], how =\"any\", inplace =True)"
   ]
  },
  {
   "cell_type": "code",
   "execution_count": null,
   "metadata": {},
   "outputs": [],
   "source": [
    "assert df.isactivemember.isna().any() == False"
   ]
  },
  {
   "cell_type": "code",
   "execution_count": null,
   "metadata": {},
   "outputs": [],
   "source": [
    "# Plotting frequencies\n",
    "\n",
    "df.isactivemember.value_counts().plot(kind = 'bar')"
   ]
  },
  {
   "cell_type": "markdown",
   "metadata": {},
   "source": [
    "No outliers"
   ]
  },
  {
   "cell_type": "markdown",
   "metadata": {},
   "source": [
    "## Estimated Salary "
   ]
  },
  {
   "cell_type": "code",
   "execution_count": null,
   "metadata": {},
   "outputs": [],
   "source": [
    "# Checking for type and missing values\n",
    "type(df.estimatedsalary[0]), df.estimatedsalary.isna().sum(), df.estimatedsalary.isna().mean()"
   ]
  },
  {
   "cell_type": "code",
   "execution_count": null,
   "metadata": {},
   "outputs": [],
   "source": [
    "# Description\n",
    "\n",
    "print(df.estimatedsalary.describe())\n",
    "median_salary = df.estimatedsalary.median()\n",
    "print('Median: %s'%median_salary)"
   ]
  },
  {
   "cell_type": "code",
   "execution_count": null,
   "metadata": {},
   "outputs": [],
   "source": [
    "# Finding Outliers\n",
    "\n",
    "df.estimatedsalary.plot(kind ='box')\n"
   ]
  },
  {
   "cell_type": "code",
   "execution_count": null,
   "metadata": {},
   "outputs": [],
   "source": [
    "df.EstimatedSalary.plot(kind ='hist')"
   ]
  },
  {
   "cell_type": "markdown",
   "metadata": {},
   "source": [
    "Is is it annual ?? Some values seem to be very small"
   ]
  },
  {
   "cell_type": "markdown",
   "metadata": {},
   "source": [
    "## Exited Column\n"
   ]
  },
  {
   "cell_type": "code",
   "execution_count": null,
   "metadata": {},
   "outputs": [],
   "source": [
    "# Cheking for type and missing values\n",
    "\n",
    "type(df.exited), df.exited.isna().any()"
   ]
  },
  {
   "cell_type": "markdown",
   "metadata": {},
   "source": [
    "No missing values"
   ]
  },
  {
   "cell_type": "code",
   "execution_count": null,
   "metadata": {},
   "outputs": [],
   "source": [
    "# Cheking for weird values\n",
    "\n",
    "print(df.exited.value_counts())\n",
    "df.exited.value_counts().plot(kind = 'bar')"
   ]
  },
  {
   "cell_type": "markdown",
   "metadata": {},
   "source": [
    "No weird values\n"
   ]
  }
 ],
 "metadata": {
  "interpreter": {
   "hash": "9a450a3d7bd3c64c0f4e244583babdfca737596d1a49258f2f17e6657f578f42"
  },
  "kernelspec": {
   "display_name": "Python 3.8.8 64-bit ('base': conda)",
   "name": "python3"
  },
  "language_info": {
   "codemirror_mode": {
    "name": "ipython",
    "version": 3
   },
   "file_extension": ".py",
   "mimetype": "text/x-python",
   "name": "python",
   "nbconvert_exporter": "python",
   "pygments_lexer": "ipython3",
   "version": "3.8.8"
  },
  "orig_nbformat": 4
 },
 "nbformat": 4,
 "nbformat_minor": 2
}
